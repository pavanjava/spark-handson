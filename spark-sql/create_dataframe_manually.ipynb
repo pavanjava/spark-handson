{
 "cells": [
  {
   "cell_type": "code",
   "execution_count": 1,
   "id": "ad19b23b",
   "metadata": {},
   "outputs": [],
   "source": [
    "import warnings\n",
    "warnings.filterwarnings(\"ignore\")\n",
    "\n",
    "from pyspark.sql import SparkSession\n",
    "from pyspark.sql.types import StructType, StructField, StringType, LongType, IntegerType, ArrayType, Row"
   ]
  },
  {
   "cell_type": "code",
   "execution_count": 2,
   "id": "41075a85",
   "metadata": {},
   "outputs": [
    {
     "name": "stdout",
     "output_type": "stream",
     "text": [
      "23/03/12 22:04:40 WARN Utils: Your hostname, Pavans-MacBook-Pro.local resolves to a loopback address: 127.0.0.1; using 192.168.29.143 instead (on interface en0)\n",
      "23/03/12 22:04:40 WARN Utils: Set SPARK_LOCAL_IP if you need to bind to another address\n"
     ]
    },
    {
     "name": "stderr",
     "output_type": "stream",
     "text": [
      "Setting default log level to \"WARN\".\n",
      "To adjust logging level use sc.setLogLevel(newLevel). For SparkR, use setLogLevel(newLevel).\n"
     ]
    },
    {
     "name": "stdout",
     "output_type": "stream",
     "text": [
      "23/03/12 22:04:40 WARN NativeCodeLoader: Unable to load native-hadoop library for your platform... using builtin-java classes where applicable\n",
      "23/03/12 22:04:41 WARN Utils: Service 'SparkUI' could not bind on port 4040. Attempting port 4041.\n"
     ]
    }
   ],
   "source": [
    "spark = SparkSession.builder.appName(\"sparksql-tutorial\").getOrCreate()"
   ]
  },
  {
   "cell_type": "code",
   "execution_count": 3,
   "id": "23b73d21",
   "metadata": {},
   "outputs": [],
   "source": [
    "# define the structure to the data frame\n",
    "schema = StructType([\n",
    "    StructField(name=\"FirstName\", dataType=StringType(), nullable=False),\n",
    "    StructField(name=\"LastName\", dataType=StringType(), nullable=False),\n",
    "    StructField(name=\"Age\", dataType=IntegerType(), nullable=False),\n",
    "    StructField(name=\"Place\", dataType=StringType(), nullable=False),\n",
    "    StructField(name=\"Salary\", dataType=LongType(), nullable=False),\n",
    "    StructField(name=\"Department\", dataType=StringType(), nullable=False),\n",
    "    StructField(name=\"Technologies\", dataType=ArrayType(elementType=StringType()), nullable=False),\n",
    "])"
   ]
  },
  {
   "cell_type": "code",
   "execution_count": 4,
   "id": "03512b8b",
   "metadata": {},
   "outputs": [],
   "source": [
    "# create the data rows as per the schema defined\n",
    "rows = [\n",
    "    Row(\"Pavan\",\"Mantha\",36,\"Hyderabad\",273567,\"SPS\",[\"java\",\"spring boot\",\"data science\",\"react\",\"node\", \"Terraform\"]),\n",
    "    Row(\"Arun\",\"Boppudi\",36,\"Guntur\",303567,\"Aero\",[\"java\",\"spring boot\",\"cloud\",\"react\",\"node\", \"druid\", \"kafka\"]),\n",
    "    Row(\"Ravi\",\"Vadlamani\",26,\"Visakapatnam\",213567,\"Aero\",[\"express\",\"data structures\",\"react\"]),\n",
    "    Row(\"Mahender\",\"M\",21,\"Hyderabad\",153567,\"Aero\",[\"java\",\"spring boot\",\"express\",\"react\",\"node\"]),\n",
    "    Row(\"Manoj\",\"Manoj\",21,\"Guntur\",183567,\"Aero\",[\"express\",\"react\"]),\n",
    "    Row(\"Manoj\",\"Velecheti\",21,\"Visakapatnam\",223567,\"Aero\",[\"java\",\"spring boot\",\"express\",\"react\"]),\n",
    "]"
   ]
  },
  {
   "cell_type": "code",
   "execution_count": 5,
   "id": "0d8cb8d1",
   "metadata": {},
   "outputs": [],
   "source": [
    "parallel_rows = spark.sparkContext.parallelize(rows)"
   ]
  },
  {
   "cell_type": "code",
   "execution_count": 6,
   "id": "e959f798",
   "metadata": {},
   "outputs": [],
   "source": [
    "# createDataFrame is used to create dataframe manually\n",
    "df = spark.createDataFrame(parallel_rows, schema, verifySchema=True)"
   ]
  },
  {
   "cell_type": "code",
   "execution_count": 7,
   "id": "3831765a",
   "metadata": {},
   "outputs": [
    {
     "name": "stderr",
     "output_type": "stream",
     "text": [
      "                                                                                \r"
     ]
    },
    {
     "name": "stdout",
     "output_type": "stream",
     "text": [
      "+---------+---------+---+------------+------+----------+--------------------+\n",
      "|FirstName| LastName|Age|       Place|Salary|Department|        Technologies|\n",
      "+---------+---------+---+------------+------+----------+--------------------+\n",
      "|    Pavan|   Mantha| 36|   Hyderabad|273567|       SPS|[java, spring boo...|\n",
      "|     Arun|  Boppudi| 36|      Guntur|303567|      Aero|[java, spring boo...|\n",
      "|     Ravi|Vadlamani| 26|Visakapatnam|213567|      Aero|[express, data st...|\n",
      "| Mahender|        M| 21|   Hyderabad|153567|      Aero|[java, spring boo...|\n",
      "|    Manoj|    Manoj| 21|      Guntur|183567|      Aero|    [express, react]|\n",
      "|    Manoj|Velecheti| 21|Visakapatnam|223567|      Aero|[java, spring boo...|\n",
      "+---------+---------+---+------------+------+----------+--------------------+\n",
      "\n"
     ]
    }
   ],
   "source": [
    "df.show()"
   ]
  },
  {
   "cell_type": "code",
   "execution_count": 8,
   "id": "306733e9",
   "metadata": {},
   "outputs": [
    {
     "name": "stdout",
     "output_type": "stream",
     "text": [
      "root\n",
      " |-- FirstName: string (nullable = false)\n",
      " |-- LastName: string (nullable = false)\n",
      " |-- Age: integer (nullable = false)\n",
      " |-- Place: string (nullable = false)\n",
      " |-- Salary: long (nullable = false)\n",
      " |-- Department: string (nullable = false)\n",
      " |-- Technologies: array (nullable = false)\n",
      " |    |-- element: string (containsNull = true)\n",
      "\n"
     ]
    }
   ],
   "source": [
    "# this will show the schema of the given dataframe\n",
    "df.printSchema()"
   ]
  },
  {
   "cell_type": "markdown",
   "id": "ac2ca479",
   "metadata": {},
   "source": [
    "## END"
   ]
  }
 ],
 "metadata": {
  "kernelspec": {
   "display_name": "Python 3 (ipykernel)",
   "language": "python",
   "name": "python3"
  },
  "language_info": {
   "codemirror_mode": {
    "name": "ipython",
    "version": 3
   },
   "file_extension": ".py",
   "mimetype": "text/x-python",
   "name": "python",
   "nbconvert_exporter": "python",
   "pygments_lexer": "ipython3",
   "version": "3.9.14"
  }
 },
 "nbformat": 4,
 "nbformat_minor": 5
}

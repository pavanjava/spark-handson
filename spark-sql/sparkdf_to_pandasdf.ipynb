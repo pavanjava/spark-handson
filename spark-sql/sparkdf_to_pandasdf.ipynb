{
 "cells": [
  {
   "cell_type": "code",
   "execution_count": 1,
   "metadata": {
    "collapsed": true
   },
   "outputs": [
    {
     "name": "stdout",
     "output_type": "stream",
     "text": [
      "23/03/13 21:27:57 WARN Utils: Your hostname, Pavans-MacBook-Pro.local resolves to a loopback address: 127.0.0.1; using 192.168.29.143 instead (on interface en0)\n",
      "23/03/13 21:27:57 WARN Utils: Set SPARK_LOCAL_IP if you need to bind to another address\n"
     ]
    },
    {
     "name": "stderr",
     "output_type": "stream",
     "text": [
      "Setting default log level to \"WARN\".\n",
      "To adjust logging level use sc.setLogLevel(newLevel). For SparkR, use setLogLevel(newLevel).\n"
     ]
    },
    {
     "name": "stdout",
     "output_type": "stream",
     "text": [
      "23/03/13 21:27:57 WARN NativeCodeLoader: Unable to load native-hadoop library for your platform... using builtin-java classes where applicable\n",
      "23/03/13 21:27:59 WARN Utils: Service 'SparkUI' could not bind on port 4040. Attempting port 4041.\n"
     ]
    },
    {
     "name": "stderr",
     "output_type": "stream",
     "text": [
      "                                                                                \r"
     ]
    },
    {
     "name": "stdout",
     "output_type": "stream",
     "text": [
      "+---------+---------+---+------------+------+----------+\n",
      "|FirstName| LastName|Age|       Place|Salary|Department|\n",
      "+---------+---------+---+------------+------+----------+\n",
      "|    Pavan|   Mantha| 36|   Hyderabad|273567|       SPS|\n",
      "|     Arun|  Boppudi| 36|      Guntur|303567|      Aero|\n",
      "|     Ravi|Vadlamani| 26|Visakapatnam|213567|      Aero|\n",
      "| Mahender|        M| 21|   Hyderabad|153567|      Aero|\n",
      "|    Manoj|    Manoj| 21|      Guntur|183567|      Aero|\n",
      "|    Manoj|Velecheti| 21|Visakapatnam|223567|      Aero|\n",
      "+---------+---------+---+------------+------+----------+\n",
      "\n"
     ]
    }
   ],
   "source": [
    "import warnings\n",
    "warnings.filterwarnings(\"ignore\")\n",
    "\n",
    "from pyspark.sql import SparkSession\n",
    "from pyspark.sql.types import StructType, StructField, StringType, LongType, IntegerType, ArrayType, Row\n",
    "\n",
    "spark = SparkSession.builder.appName(\"sparksql-tutorial\").getOrCreate()\n",
    "# define the structure to the data frame\n",
    "schema = StructType([\n",
    "    StructField(name=\"FirstName\", dataType=StringType(), nullable=False),\n",
    "    StructField(name=\"LastName\", dataType=StringType(), nullable=False),\n",
    "    StructField(name=\"Age\", dataType=IntegerType(), nullable=False),\n",
    "    StructField(name=\"Place\", dataType=StringType(), nullable=False),\n",
    "    StructField(name=\"Salary\", dataType=LongType(), nullable=False),\n",
    "    StructField(name=\"Department\", dataType=StringType(), nullable=False)\n",
    "])\n",
    "\n",
    "# Create the data rows as per the schema defined\n",
    "rows = [\n",
    "    Row(\"Pavan\",\"Mantha\",36,\"Hyderabad\",273567,\"SPS\"),\n",
    "    Row(\"Arun\",\"Boppudi\",36,\"Guntur\",303567,\"Aero\"),\n",
    "    Row(\"Ravi\",\"Vadlamani\",26,\"Visakapatnam\",213567,\"Aero\"),\n",
    "    Row(\"Mahender\",\"M\",21,\"Hyderabad\",153567,\"Aero\"),\n",
    "    Row(\"Manoj\",\"Manoj\",21,\"Guntur\",183567,\"Aero\"),\n",
    "    Row(\"Manoj\",\"Velecheti\",21,\"Visakapatnam\",223567,\"Aero\"),\n",
    "]\n",
    "\n",
    "parallel_rows = spark.sparkContext.parallelize(rows)\n",
    "\n",
    "# createDataFrame is used to create dataframe manually\n",
    "df = spark.createDataFrame(parallel_rows, schema, verifySchema=True)\n",
    "\n",
    "df.show()"
   ]
  },
  {
   "cell_type": "code",
   "execution_count": 2,
   "outputs": [
    {
     "data": {
      "text/plain": "  FirstName   LastName  Age         Place  Salary Department\n0     Pavan     Mantha   36     Hyderabad  273567        SPS\n1      Arun    Boppudi   36        Guntur  303567       Aero\n2      Ravi  Vadlamani   26  Visakapatnam  213567       Aero\n3  Mahender          M   21     Hyderabad  153567       Aero\n4     Manoj      Manoj   21        Guntur  183567       Aero\n5     Manoj  Velecheti   21  Visakapatnam  223567       Aero",
      "text/html": "<div>\n<style scoped>\n    .dataframe tbody tr th:only-of-type {\n        vertical-align: middle;\n    }\n\n    .dataframe tbody tr th {\n        vertical-align: top;\n    }\n\n    .dataframe thead th {\n        text-align: right;\n    }\n</style>\n<table border=\"1\" class=\"dataframe\">\n  <thead>\n    <tr style=\"text-align: right;\">\n      <th></th>\n      <th>FirstName</th>\n      <th>LastName</th>\n      <th>Age</th>\n      <th>Place</th>\n      <th>Salary</th>\n      <th>Department</th>\n    </tr>\n  </thead>\n  <tbody>\n    <tr>\n      <th>0</th>\n      <td>Pavan</td>\n      <td>Mantha</td>\n      <td>36</td>\n      <td>Hyderabad</td>\n      <td>273567</td>\n      <td>SPS</td>\n    </tr>\n    <tr>\n      <th>1</th>\n      <td>Arun</td>\n      <td>Boppudi</td>\n      <td>36</td>\n      <td>Guntur</td>\n      <td>303567</td>\n      <td>Aero</td>\n    </tr>\n    <tr>\n      <th>2</th>\n      <td>Ravi</td>\n      <td>Vadlamani</td>\n      <td>26</td>\n      <td>Visakapatnam</td>\n      <td>213567</td>\n      <td>Aero</td>\n    </tr>\n    <tr>\n      <th>3</th>\n      <td>Mahender</td>\n      <td>M</td>\n      <td>21</td>\n      <td>Hyderabad</td>\n      <td>153567</td>\n      <td>Aero</td>\n    </tr>\n    <tr>\n      <th>4</th>\n      <td>Manoj</td>\n      <td>Manoj</td>\n      <td>21</td>\n      <td>Guntur</td>\n      <td>183567</td>\n      <td>Aero</td>\n    </tr>\n    <tr>\n      <th>5</th>\n      <td>Manoj</td>\n      <td>Velecheti</td>\n      <td>21</td>\n      <td>Visakapatnam</td>\n      <td>223567</td>\n      <td>Aero</td>\n    </tr>\n  </tbody>\n</table>\n</div>"
     },
     "execution_count": 2,
     "metadata": {},
     "output_type": "execute_result"
    }
   ],
   "source": [
    "df.toPandas()"
   ],
   "metadata": {
    "collapsed": false
   }
  },
  {
   "cell_type": "code",
   "execution_count": null,
   "outputs": [],
   "source": [],
   "metadata": {
    "collapsed": false
   }
  }
 ],
 "metadata": {
  "kernelspec": {
   "display_name": "Python 3",
   "language": "python",
   "name": "python3"
  },
  "language_info": {
   "codemirror_mode": {
    "name": "ipython",
    "version": 2
   },
   "file_extension": ".py",
   "mimetype": "text/x-python",
   "name": "python",
   "nbconvert_exporter": "python",
   "pygments_lexer": "ipython2",
   "version": "2.7.6"
  }
 },
 "nbformat": 4,
 "nbformat_minor": 0
}

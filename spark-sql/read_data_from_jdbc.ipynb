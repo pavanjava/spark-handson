{
 "cells": [
  {
   "cell_type": "code",
   "execution_count": 1,
   "metadata": {
    "collapsed": true
   },
   "outputs": [],
   "source": [
    "from pyspark.sql import SparkSession"
   ]
  },
  {
   "cell_type": "code",
   "execution_count": 2,
   "outputs": [
    {
     "name": "stdout",
     "output_type": "stream",
     "text": [
      "23/03/12 22:47:03 WARN Utils: Your hostname, Pavans-MacBook-Pro.local resolves to a loopback address: 127.0.0.1; using 192.168.29.143 instead (on interface en0)\n",
      "23/03/12 22:47:03 WARN Utils: Set SPARK_LOCAL_IP if you need to bind to another address\n",
      "23/03/12 22:47:04 WARN NativeCodeLoader: Unable to load native-hadoop library for your platform... using builtin-java classes where applicable\n"
     ]
    },
    {
     "name": "stderr",
     "output_type": "stream",
     "text": [
      "Setting default log level to \"WARN\".\n",
      "To adjust logging level use sc.setLogLevel(newLevel). For SparkR, use setLogLevel(newLevel).\n"
     ]
    }
   ],
   "source": [
    "spark = SparkSession.builder.appName(\"SparkDev\").config(\"spark.jars\", \"/opt/homebrew/Cellar/apache-spark/3.3.0/libexec/jars/mysql-connector-java-8.0.16.jar\").getOrCreate()"
   ],
   "metadata": {
    "collapsed": false
   }
  },
  {
   "cell_type": "code",
   "execution_count": 6,
   "outputs": [],
   "source": [
    "df = spark.read.jdbc(\"jdbc:mysql://localhost:3306/test\", \"employee\",\n",
    "                     properties={\"user\": \"root\", \"password\": \"root\", \"driver\":\"com.mysql.jdbc.Driver\"})"
   ],
   "metadata": {
    "collapsed": false
   }
  },
  {
   "cell_type": "code",
   "execution_count": 7,
   "outputs": [
    {
     "name": "stdout",
     "output_type": "stream",
     "text": [
      "+---+-----------+----------+---+--------------+---------------+----------+--------------+--------------------+\n",
      "| id| first_name| last_name|age|highest_degree|cgpa_percentage|      city|         state|        technologies|\n",
      "+---+-----------+----------+---+--------------+---------------+----------+--------------+--------------------+\n",
      "|  1|Pavan Kumar|    Mantha| 36|         MTech|            7.9| Hyderabad|     Telangana|ReactJs, JavaScri...|\n",
      "|  2| Arun Kumar|   Boppudi| 35|         BTech|           8.05|    Guntur|Andhra Pradesh|ReactJs, JavaScri...|\n",
      "|  3|     Deepak|    Mantha| 33|         BTech|           8.09| Hyderabad|     Telangana|C, C++, Electroni...|\n",
      "|  4|Ravi Kamesh| Vadlamani| 27|         BTech|           7.39|Anakapalli|Andhra Pradesh|ReactJs, JavaScri...|\n",
      "|  5|    Ramarao| Dandamudi| 36|         BTech|            8.0|Rajamundry|Andhra Pradesh|ReactJs, JavaScri...|\n",
      "|  6|   Mahender|         V| 21|         BTech|           7.19| Hyderabad|     Telangana|ReactJs, JavaScri...|\n",
      "|  7|Manoj Kumar|Velechetti| 33|         BTech|           7.95|     Rajam|Andhra Pradesh|ReactJs, JavaScri...|\n",
      "|  8|      Manoj|     Manoj| 23|         BTech|           7.64|    Guntur|Andhra Pradesh|ReactJs, JavaScri...|\n",
      "+---+-----------+----------+---+--------------+---------------+----------+--------------+--------------------+\n",
      "\n"
     ]
    }
   ],
   "source": [
    "df.show(10)"
   ],
   "metadata": {
    "collapsed": false
   }
  },
  {
   "cell_type": "code",
   "execution_count": 8,
   "outputs": [
    {
     "name": "stdout",
     "output_type": "stream",
     "text": [
      "+---+-----------+---------+---+--------------+---------------+---------+---------+--------------------+\n",
      "| id| first_name|last_name|age|highest_degree|cgpa_percentage|     city|    state|        technologies|\n",
      "+---+-----------+---------+---+--------------+---------------+---------+---------+--------------------+\n",
      "|  1|Pavan Kumar|   Mantha| 36|         MTech|            7.9|Hyderabad|Telangana|ReactJs, JavaScri...|\n",
      "+---+-----------+---------+---+--------------+---------------+---------+---------+--------------------+\n",
      "\n"
     ]
    }
   ],
   "source": [
    "df.where(\"highest_degree == 'MTech'\").show()"
   ],
   "metadata": {
    "collapsed": false
   }
  },
  {
   "cell_type": "code",
   "execution_count": 10,
   "outputs": [
    {
     "data": {
      "text/plain": "3"
     },
     "execution_count": 10,
     "metadata": {},
     "output_type": "execute_result"
    }
   ],
   "source": [
    "df.where(\"state == 'Telangana'\").count()"
   ],
   "metadata": {
    "collapsed": false
   }
  },
  {
   "cell_type": "code",
   "execution_count": 11,
   "outputs": [
    {
     "data": {
      "text/plain": "5"
     },
     "execution_count": 11,
     "metadata": {},
     "output_type": "execute_result"
    }
   ],
   "source": [
    "df.where(\"state == 'Andhra Pradesh'\").count()"
   ],
   "metadata": {
    "collapsed": false
   }
  },
  {
   "cell_type": "code",
   "execution_count": null,
   "outputs": [],
   "source": [],
   "metadata": {
    "collapsed": false
   }
  }
 ],
 "metadata": {
  "kernelspec": {
   "display_name": "Python 3",
   "language": "python",
   "name": "python3"
  },
  "language_info": {
   "codemirror_mode": {
    "name": "ipython",
    "version": 2
   },
   "file_extension": ".py",
   "mimetype": "text/x-python",
   "name": "python",
   "nbconvert_exporter": "python",
   "pygments_lexer": "ipython2",
   "version": "2.7.6"
  }
 },
 "nbformat": 4,
 "nbformat_minor": 0
}

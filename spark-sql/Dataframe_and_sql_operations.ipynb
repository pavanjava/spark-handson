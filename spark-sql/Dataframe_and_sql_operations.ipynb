{
 "cells": [
  {
   "cell_type": "markdown",
   "id": "7dfb32a9",
   "metadata": {},
   "source": [
    "## Pyspark Basics and transformations\n",
    "    - this notebook assume pyspark is already installed and runing, if not please watch this video\n",
    "    https://www.youtube.com/watch?v=MLXOy-OhWRY&list=PL7qHbYUK0G0reyK9ltnm5n0QgTKh2EV3q&index=2"
   ]
  },
  {
   "cell_type": "code",
   "execution_count": 1,
   "id": "23cb4641",
   "metadata": {},
   "outputs": [],
   "source": [
    "from pyspark.sql import SparkSession"
   ]
  },
  {
   "cell_type": "code",
   "execution_count": 2,
   "id": "45949480",
   "metadata": {},
   "outputs": [
    {
     "name": "stdout",
     "output_type": "stream",
     "text": [
      "22/11/20 21:54:16 WARN Utils: Your hostname, Pavans-MacBook-Pro.local resolves to a loopback address: 127.0.0.1; using 192.168.29.143 instead (on interface en0)\n",
      "22/11/20 21:54:16 WARN Utils: Set SPARK_LOCAL_IP if you need to bind to another address\n"
     ]
    },
    {
     "name": "stderr",
     "output_type": "stream",
     "text": [
      "Setting default log level to \"WARN\".\n",
      "To adjust logging level use sc.setLogLevel(newLevel). For SparkR, use setLogLevel(newLevel).\n"
     ]
    },
    {
     "name": "stdout",
     "output_type": "stream",
     "text": [
      "22/11/20 21:54:17 WARN NativeCodeLoader: Unable to load native-hadoop library for your platform... using builtin-java classes where applicable\n",
      "22/11/20 21:54:18 WARN Utils: Service 'SparkUI' could not bind on port 4040. Attempting port 4041.\n"
     ]
    }
   ],
   "source": [
    "spark = SparkSession.builder.appName(\"spark basic operations\").getOrCreate()"
   ]
  },
  {
   "cell_type": "code",
   "execution_count": 3,
   "id": "50c83530",
   "metadata": {},
   "outputs": [],
   "source": [
    "from pyspark.sql import Row\n",
    "from pyspark.sql.types import StructField, StructType, StringType, LongType, IntegerType, ArrayType"
   ]
  },
  {
   "cell_type": "code",
   "execution_count": 4,
   "id": "0eacfc39",
   "metadata": {},
   "outputs": [],
   "source": [
    "schema = StructType([\n",
    "    StructField(name=\"FirstName\", dataType=StringType(), nullable=False),\n",
    "    StructField(name=\"LastName\", dataType=StringType(), nullable=False),\n",
    "    StructField(name=\"Age\", dataType=IntegerType(), nullable=False),\n",
    "    StructField(name=\"Place\", dataType=StringType(), nullable=False),\n",
    "    StructField(name=\"Salary\", dataType=LongType(), nullable=False),\n",
    "    StructField(name=\"Department\", dataType=StringType(), nullable=False),\n",
    "    StructField(name=\"Technologies\", dataType=ArrayType(elementType=StringType()), nullable=False),\n",
    "])"
   ]
  },
  {
   "cell_type": "code",
   "execution_count": 5,
   "id": "c4973406",
   "metadata": {},
   "outputs": [],
   "source": [
    "rows = [\n",
    "    Row(\"Pavan\",\"Mantha\",36,\"Hyderabad\",273567,\"SPS\",[\"java\",\"spring boot\",\"data science\",\"react\",\"node\"]),\n",
    "    Row(\"Arun\",\"Boppudi\",36,\"Guntur\",303567,\"Aero\",[\"java\",\"spring boot\",\"cloud\",\"react\",\"node\"]),\n",
    "    Row(\"Ravi\",\"Vadlamani\",26,\"Visakapatnam\",213567,\"Aero\",[\"express\",\"data structures\",\"react\"]),\n",
    "    Row(\"Mahender\",\"M\",21,\"Hyderabad\",153567,\"Aero\",[\"java\",\"spring boot\",\"express\",\"react\",\"node\"]),\n",
    "    Row(\"Manoj\",\"Manoj\",21,\"Guntur\",183567,\"Aero\",[\"express\",\"react\"]),\n",
    "    Row(\"Manoj\",\"Velecheti\",21,\"Visakapatnam\",223567,\"Aero\",[\"java\",\"spring boot\",\"express\",\"react\"]),\n",
    "]"
   ]
  },
  {
   "cell_type": "code",
   "execution_count": 6,
   "id": "5b43a077",
   "metadata": {},
   "outputs": [],
   "source": [
    "parallel_rows = spark.sparkContext.parallelize(rows)"
   ]
  },
  {
   "cell_type": "code",
   "execution_count": 7,
   "id": "86f55271",
   "metadata": {},
   "outputs": [],
   "source": [
    "df = spark.createDataFrame(parallel_rows, schema)"
   ]
  },
  {
   "cell_type": "code",
   "execution_count": 8,
   "id": "0bd95434",
   "metadata": {},
   "outputs": [
    {
     "name": "stderr",
     "output_type": "stream",
     "text": [
      "                                                                                \r"
     ]
    },
    {
     "name": "stdout",
     "output_type": "stream",
     "text": [
      "+---------+---------+---+------------+------+----------+--------------------+\n",
      "|FirstName| LastName|Age|       Place|Salary|Department|        Technologies|\n",
      "+---------+---------+---+------------+------+----------+--------------------+\n",
      "|    Pavan|   Mantha| 36|   Hyderabad|273567|       SPS|[java, spring boo...|\n",
      "|     Arun|  Boppudi| 36|      Guntur|303567|      Aero|[java, spring boo...|\n",
      "|     Ravi|Vadlamani| 26|Visakapatnam|213567|      Aero|[express, data st...|\n",
      "| Mahender|        M| 21|   Hyderabad|153567|      Aero|[java, spring boo...|\n",
      "|    Manoj|    Manoj| 21|      Guntur|183567|      Aero|    [express, react]|\n",
      "|    Manoj|Velecheti| 21|Visakapatnam|223567|      Aero|[java, spring boo...|\n",
      "+---------+---------+---+------------+------+----------+--------------------+\n",
      "\n"
     ]
    }
   ],
   "source": [
    "df.show()"
   ]
  },
  {
   "cell_type": "markdown",
   "id": "6f5abc43",
   "metadata": {},
   "source": [
    "### Read data from a file to create data frame"
   ]
  },
  {
   "cell_type": "code",
   "execution_count": 9,
   "id": "c32e7aa8",
   "metadata": {},
   "outputs": [],
   "source": [
    "df_from_file = spark.read.csv(\"owid-co2-data.csv\", inferSchema=True, header=True)"
   ]
  },
  {
   "cell_type": "code",
   "execution_count": 10,
   "id": "d10eea27",
   "metadata": {},
   "outputs": [
    {
     "name": "stdout",
     "output_type": "stream",
     "text": [
      "22/09/11 15:46:48 WARN package: Truncated the string representation of a plan since it was too large. This behavior can be adjusted by setting 'spark.sql.debug.maxToStringFields'.\n"
     ]
    },
    {
     "data": {
      "text/plain": [
       "Row(iso_code='AFG', country='Afghanistan', year=1949, co2=0.015, co2_per_capita=0.002, trade_co2=None, cement_co2=None, cement_co2_per_capita=None, coal_co2=0.015, coal_co2_per_capita=0.002, flaring_co2=None, flaring_co2_per_capita=None, gas_co2=None, gas_co2_per_capita=None, oil_co2=None, oil_co2_per_capita=None, other_industry_co2=None, other_co2_per_capita=None, co2_growth_prct=None, co2_growth_abs=None, co2_per_gdp=None, co2_per_unit_energy=None, consumption_co2=None, consumption_co2_per_capita=None, consumption_co2_per_gdp=None, cumulative_co2=0.015, cumulative_cement_co2=None, cumulative_coal_co2=0.015, cumulative_flaring_co2=None, cumulative_gas_co2=None, cumulative_oil_co2=None, cumulative_other_co2=None, trade_co2_share=None, share_global_co2=0.0, share_global_cement_co2=None, share_global_coal_co2=0.0, share_global_flaring_co2=None, share_global_gas_co2=None, share_global_oil_co2=None, share_global_other_co2=None, share_global_cumulative_co2=0.0, share_global_cumulative_cement_co2=None, share_global_cumulative_coal_co2=0.0, share_global_cumulative_flaring_co2=None, share_global_cumulative_gas_co2=None, share_global_cumulative_oil_co2=None, share_global_cumulative_other_co2=None, total_ghg=None, ghg_per_capita=None, total_ghg_excluding_lucf=None, ghg_excluding_lucf_per_capita=None, methane=None, methane_per_capita=None, nitrous_oxide=None, nitrous_oxide_per_capita=None, population=7624058.0, gdp=None, primary_energy_consumption=None, energy_per_capita=None, energy_per_gdp=None)"
      ]
     },
     "execution_count": 10,
     "metadata": {},
     "output_type": "execute_result"
    }
   ],
   "source": [
    "df_from_file.head()"
   ]
  },
  {
   "cell_type": "markdown",
   "id": "cee58eb3",
   "metadata": {},
   "source": [
    "### Creating a lazily evaluated \"view\" that can be used in spark sql"
   ]
  },
  {
   "cell_type": "code",
   "execution_count": 10,
   "id": "3b80507f",
   "metadata": {},
   "outputs": [
    {
     "name": "stdout",
     "output_type": "stream",
     "text": [
      "22/11/20 21:55:12 WARN package: Truncated the string representation of a plan since it was too large. This behavior can be adjusted by setting 'spark.sql.debug.maxToStringFields'.\n"
     ]
    }
   ],
   "source": [
    "df_from_file.createOrReplaceTempView(\"df_table\")"
   ]
  },
  {
   "cell_type": "markdown",
   "id": "ff19c1d2",
   "metadata": {},
   "source": [
    "### Printing the schema"
   ]
  },
  {
   "cell_type": "code",
   "execution_count": 11,
   "id": "37fef8ef",
   "metadata": {},
   "outputs": [
    {
     "name": "stdout",
     "output_type": "stream",
     "text": [
      "root\n",
      " |-- FirstName: string (nullable = false)\n",
      " |-- LastName: string (nullable = false)\n",
      " |-- Age: integer (nullable = false)\n",
      " |-- Place: string (nullable = false)\n",
      " |-- Salary: long (nullable = false)\n",
      " |-- Department: string (nullable = false)\n",
      " |-- Technologies: array (nullable = false)\n",
      " |    |-- element: string (containsNull = true)\n",
      "\n"
     ]
    }
   ],
   "source": [
    "#df_from_file.printSchema()\n",
    "df.printSchema()"
   ]
  },
  {
   "cell_type": "markdown",
   "id": "6cb397b1",
   "metadata": {},
   "source": [
    "### Manipulating the columns [spark transformations]"
   ]
  },
  {
   "cell_type": "code",
   "execution_count": 12,
   "id": "80593a75",
   "metadata": {},
   "outputs": [],
   "source": [
    "import pyspark.sql.functions as F"
   ]
  },
  {
   "cell_type": "code",
   "execution_count": 13,
   "id": "156b5378",
   "metadata": {},
   "outputs": [
    {
     "name": "stdout",
     "output_type": "stream",
     "text": [
      "+---------+\n",
      "|    Place|\n",
      "+---------+\n",
      "|Hyderabad|\n",
      "+---------+\n",
      "only showing top 1 row\n",
      "\n"
     ]
    }
   ],
   "source": [
    "df.select(\"Place\").show(1)"
   ]
  },
  {
   "cell_type": "code",
   "execution_count": 14,
   "id": "72f65989",
   "metadata": {},
   "outputs": [
    {
     "name": "stdout",
     "output_type": "stream",
     "text": [
      "+---------+\n",
      "|    Place|\n",
      "+---------+\n",
      "|Hyderabad|\n",
      "|   Guntur|\n",
      "+---------+\n",
      "only showing top 2 rows\n",
      "\n"
     ]
    }
   ],
   "source": [
    "df.select(F.col(\"Place\")).show(2)"
   ]
  },
  {
   "cell_type": "code",
   "execution_count": 15,
   "id": "0f870288",
   "metadata": {},
   "outputs": [
    {
     "name": "stdout",
     "output_type": "stream",
     "text": [
      "+---------+--------+\n",
      "|FirstName|LastName|\n",
      "+---------+--------+\n",
      "|    Pavan|  Mantha|\n",
      "+---------+--------+\n",
      "only showing top 1 row\n",
      "\n"
     ]
    }
   ],
   "source": [
    "df.select('FirstName','LastName').show(1)"
   ]
  },
  {
   "cell_type": "code",
   "execution_count": 16,
   "id": "c1991214",
   "metadata": {},
   "outputs": [
    {
     "name": "stdout",
     "output_type": "stream",
     "text": [
      "+---------+--------+---+---------+------+----------+--------------------+\n",
      "|FirstName|LastName|Age|    Place|Salary|Department|        Technologies|\n",
      "+---------+--------+---+---------+------+----------+--------------------+\n",
      "|    Pavan|  Mantha| 36|Hyderabad|273567|       SPS|[java, spring boo...|\n",
      "+---------+--------+---+---------+------+----------+--------------------+\n",
      "only showing top 1 row\n",
      "\n"
     ]
    }
   ],
   "source": [
    "df.select('*').show(1)"
   ]
  },
  {
   "cell_type": "markdown",
   "id": "ab78d443",
   "metadata": {},
   "source": [
    "### Change the column name and change it back using alias"
   ]
  },
  {
   "cell_type": "code",
   "execution_count": 18,
   "id": "766b6708",
   "metadata": {},
   "outputs": [
    {
     "name": "stdout",
     "output_type": "stream",
     "text": [
      "+------------------+\n",
      "|Place_Of_Residence|\n",
      "+------------------+\n",
      "|         Hyderabad|\n",
      "|            Guntur|\n",
      "+------------------+\n",
      "only showing top 2 rows\n",
      "\n"
     ]
    }
   ],
   "source": [
    "df.select(F.expr(\"Place as Place_Of_Residence\")).show(2)"
   ]
  },
  {
   "cell_type": "code",
   "execution_count": 19,
   "id": "ae9c2a89",
   "metadata": {},
   "outputs": [
    {
     "name": "stdout",
     "output_type": "stream",
     "text": [
      "+---------+\n",
      "|    place|\n",
      "+---------+\n",
      "|Hyderabad|\n",
      "|   Guntur|\n",
      "+---------+\n",
      "only showing top 2 rows\n",
      "\n"
     ]
    }
   ],
   "source": [
    "df.select(F.expr(\"Place as Place_Of_Residence\").alias(\"place\")).show(2)"
   ]
  },
  {
   "cell_type": "code",
   "execution_count": 20,
   "id": "49d2b3e0",
   "metadata": {},
   "outputs": [
    {
     "name": "stdout",
     "output_type": "stream",
     "text": [
      "+------------------+---------+\n",
      "|Place_Of_Residence|    place|\n",
      "+------------------+---------+\n",
      "|         Hyderabad|Hyderabad|\n",
      "|            Guntur|   Guntur|\n",
      "+------------------+---------+\n",
      "only showing top 2 rows\n",
      "\n"
     ]
    }
   ],
   "source": [
    "df.selectExpr(\"Place as Place_Of_Residence\",\"place\").show(2)"
   ]
  },
  {
   "cell_type": "code",
   "execution_count": 21,
   "id": "bcafd33a",
   "metadata": {},
   "outputs": [
    {
     "name": "stdout",
     "output_type": "stream",
     "text": [
      "+------------------+-----------+\n",
      "|          avg(age)|place_count|\n",
      "+------------------+-----------+\n",
      "|26.833333333333332|          3|\n",
      "+------------------+-----------+\n",
      "\n"
     ]
    }
   ],
   "source": [
    "df.selectExpr(\"avg(age)\",\"count(distinct(place)) as place_count\").show()"
   ]
  },
  {
   "cell_type": "markdown",
   "id": "0b22647f",
   "metadata": {},
   "source": [
    "### Pass explicit values with literals"
   ]
  },
  {
   "cell_type": "code",
   "execution_count": 22,
   "id": "aea0cd6e",
   "metadata": {},
   "outputs": [
    {
     "name": "stdout",
     "output_type": "stream",
     "text": [
      "+---------+---------+---+------------+------+----------+--------------------+-----+\n",
      "|FirstName| LastName|Age|       Place|Salary|Department|        Technologies|  one|\n",
      "+---------+---------+---+------------+------+----------+--------------------+-----+\n",
      "|    Pavan|   Mantha| 36|   Hyderabad|273567|       SPS|[java, spring boo...|dummy|\n",
      "|     Arun|  Boppudi| 36|      Guntur|303567|      Aero|[java, spring boo...|dummy|\n",
      "|     Ravi|Vadlamani| 26|Visakapatnam|213567|      Aero|[express, data st...|dummy|\n",
      "| Mahender|        M| 21|   Hyderabad|153567|      Aero|[java, spring boo...|dummy|\n",
      "|    Manoj|    Manoj| 21|      Guntur|183567|      Aero|    [express, react]|dummy|\n",
      "|    Manoj|Velecheti| 21|Visakapatnam|223567|      Aero|[java, spring boo...|dummy|\n",
      "+---------+---------+---+------------+------+----------+--------------------+-----+\n",
      "\n"
     ]
    }
   ],
   "source": [
    "df.select(F.expr(\"*\"), F.lit('dummy').alias(\"one\")).show()"
   ]
  },
  {
   "cell_type": "markdown",
   "id": "1dcbcdb8",
   "metadata": {},
   "source": [
    "### Adding columns"
   ]
  },
  {
   "cell_type": "code",
   "execution_count": 23,
   "id": "f8ecb581",
   "metadata": {},
   "outputs": [
    {
     "name": "stdout",
     "output_type": "stream",
     "text": [
      "+---------+---------+---+------------+------+----------+--------------------+-----+\n",
      "|FirstName| LastName|Age|       Place|Salary|Department|        Technologies|  one|\n",
      "+---------+---------+---+------------+------+----------+--------------------+-----+\n",
      "|    Pavan|   Mantha| 36|   Hyderabad|273567|       SPS|[java, spring boo...|dummy|\n",
      "|     Arun|  Boppudi| 36|      Guntur|303567|      Aero|[java, spring boo...|dummy|\n",
      "|     Ravi|Vadlamani| 26|Visakapatnam|213567|      Aero|[express, data st...|dummy|\n",
      "| Mahender|        M| 21|   Hyderabad|153567|      Aero|[java, spring boo...|dummy|\n",
      "|    Manoj|    Manoj| 21|      Guntur|183567|      Aero|    [express, react]|dummy|\n",
      "|    Manoj|Velecheti| 21|Visakapatnam|223567|      Aero|[java, spring boo...|dummy|\n",
      "+---------+---------+---+------------+------+----------+--------------------+-----+\n",
      "\n"
     ]
    }
   ],
   "source": [
    "df_modified = df.withColumn(\"one\", F.lit(\"dummy\"))\n",
    "df_modified.show()"
   ]
  },
  {
   "cell_type": "code",
   "execution_count": 24,
   "id": "158d9869",
   "metadata": {},
   "outputs": [
    {
     "name": "stdout",
     "output_type": "stream",
     "text": [
      "+---------+---------+---+------------+------+----------+--------------------+-----+\n",
      "|FirstName| LastName|Age|       Place|Salary|Department|        Technologies|  One|\n",
      "+---------+---------+---+------------+------+----------+--------------------+-----+\n",
      "|    Pavan|   Mantha| 36|   Hyderabad|273567|       SPS|[java, spring boo...|dummy|\n",
      "|     Arun|  Boppudi| 36|      Guntur|303567|      Aero|[java, spring boo...|dummy|\n",
      "|     Ravi|Vadlamani| 26|Visakapatnam|213567|      Aero|[express, data st...|dummy|\n",
      "| Mahender|        M| 21|   Hyderabad|153567|      Aero|[java, spring boo...|dummy|\n",
      "|    Manoj|    Manoj| 21|      Guntur|183567|      Aero|    [express, react]|dummy|\n",
      "|    Manoj|Velecheti| 21|Visakapatnam|223567|      Aero|[java, spring boo...|dummy|\n",
      "+---------+---------+---+------------+------+----------+--------------------+-----+\n",
      "\n"
     ]
    }
   ],
   "source": [
    "df_modified = df_modified.withColumn(\"One\", F.expr(\"one\"))\n",
    "df_modified.show()"
   ]
  },
  {
   "cell_type": "code",
   "execution_count": 25,
   "id": "9e3e3565",
   "metadata": {},
   "outputs": [
    {
     "data": {
      "text/plain": [
       "['FirstName',\n",
       " 'LastName',\n",
       " 'Age',\n",
       " 'Place',\n",
       " 'Salary',\n",
       " 'Department',\n",
       " 'Technologies',\n",
       " 'One']"
      ]
     },
     "execution_count": 25,
     "metadata": {},
     "output_type": "execute_result"
    }
   ],
   "source": [
    "df_modified.columns"
   ]
  },
  {
   "cell_type": "code",
   "execution_count": 26,
   "id": "697cd2f3",
   "metadata": {},
   "outputs": [
    {
     "name": "stdout",
     "output_type": "stream",
     "text": [
      "+---------+---------+---+------------+------+----------+--------------------+-----+\n",
      "|FirstName| LastName|Age|       Place|Salary|Department|        Technologies|DUMMY|\n",
      "+---------+---------+---+------------+------+----------+--------------------+-----+\n",
      "|    Pavan|   Mantha| 36|   Hyderabad|273567|       SPS|[java, spring boo...|dummy|\n",
      "|     Arun|  Boppudi| 36|      Guntur|303567|      Aero|[java, spring boo...|dummy|\n",
      "|     Ravi|Vadlamani| 26|Visakapatnam|213567|      Aero|[express, data st...|dummy|\n",
      "| Mahender|        M| 21|   Hyderabad|153567|      Aero|[java, spring boo...|dummy|\n",
      "|    Manoj|    Manoj| 21|      Guntur|183567|      Aero|    [express, react]|dummy|\n",
      "|    Manoj|Velecheti| 21|Visakapatnam|223567|      Aero|[java, spring boo...|dummy|\n",
      "+---------+---------+---+------------+------+----------+--------------------+-----+\n",
      "\n"
     ]
    }
   ],
   "source": [
    "# using this function \"withColumnRenamed\" will allow to modify the column one at a time.\n",
    "df_modified = df_modified.withColumnRenamed(\"One\",\"DUMMY\")\n",
    "df_modified.show()"
   ]
  },
  {
   "cell_type": "markdown",
   "id": "0912cbb3",
   "metadata": {},
   "source": [
    "### Removing the columns"
   ]
  },
  {
   "cell_type": "code",
   "execution_count": 27,
   "id": "79d8c707",
   "metadata": {},
   "outputs": [
    {
     "data": {
      "text/plain": [
       "['FirstName',\n",
       " 'LastName',\n",
       " 'Age',\n",
       " 'Place',\n",
       " 'Salary',\n",
       " 'Department',\n",
       " 'Technologies']"
      ]
     },
     "execution_count": 27,
     "metadata": {},
     "output_type": "execute_result"
    }
   ],
   "source": [
    "df_modified = df_modified.drop(\"DUMMY\")\n",
    "df_modified.columns"
   ]
  },
  {
   "cell_type": "markdown",
   "id": "c5e656c3",
   "metadata": {},
   "source": [
    "### Dataframe Filtering Techniques"
   ]
  },
  {
   "cell_type": "code",
   "execution_count": 28,
   "id": "d0da3063",
   "metadata": {},
   "outputs": [
    {
     "name": "stdout",
     "output_type": "stream",
     "text": [
      "+---------+---------+---+------------+------+----------+--------------------+\n",
      "|FirstName| LastName|Age|       Place|Salary|Department|        Technologies|\n",
      "+---------+---------+---+------------+------+----------+--------------------+\n",
      "|     Ravi|Vadlamani| 26|Visakapatnam|213567|      Aero|[express, data st...|\n",
      "| Mahender|        M| 21|   Hyderabad|153567|      Aero|[java, spring boo...|\n",
      "|    Manoj|    Manoj| 21|      Guntur|183567|      Aero|    [express, react]|\n",
      "|    Manoj|Velecheti| 21|Visakapatnam|223567|      Aero|[java, spring boo...|\n",
      "+---------+---------+---+------------+------+----------+--------------------+\n",
      "\n"
     ]
    }
   ],
   "source": [
    "df_modified.filter(F.col(\"age\") < 30).show()"
   ]
  },
  {
   "cell_type": "code",
   "execution_count": 30,
   "id": "8a4bbd82",
   "metadata": {},
   "outputs": [
    {
     "name": "stdout",
     "output_type": "stream",
     "text": [
      "+---------+--------+---+------+------+----------+----------------+\n",
      "|FirstName|LastName|Age| Place|Salary|Department|    Technologies|\n",
      "+---------+--------+---+------+------+----------+----------------+\n",
      "|    Manoj|   Manoj| 21|Guntur|183567|      Aero|[express, react]|\n",
      "+---------+--------+---+------+------+----------+----------------+\n",
      "\n"
     ]
    }
   ],
   "source": [
    "df_modified.filter(F.size(F.col(\"Technologies\")) < 3).show()"
   ]
  },
  {
   "cell_type": "code",
   "execution_count": 31,
   "id": "79bf4fee",
   "metadata": {},
   "outputs": [
    {
     "name": "stdout",
     "output_type": "stream",
     "text": [
      "+---------+--------+---+---------+------+----------+--------------------+\n",
      "|FirstName|LastName|Age|    Place|Salary|Department|        Technologies|\n",
      "+---------+--------+---+---------+------+----------+--------------------+\n",
      "|    Pavan|  Mantha| 36|Hyderabad|273567|       SPS|[java, spring boo...|\n",
      "| Mahender|       M| 21|Hyderabad|153567|      Aero|[java, spring boo...|\n",
      "+---------+--------+---+---------+------+----------+--------------------+\n",
      "\n"
     ]
    }
   ],
   "source": [
    "# perform multiple filter operations using the \"where\" function\n",
    "df_modified.where(F.col(\"Place\") == \"Hyderabad\").where(F.size(F.col(\"Technologies\")) > 3).show()"
   ]
  },
  {
   "cell_type": "markdown",
   "id": "d16a1311",
   "metadata": {},
   "source": [
    "### Count distinct rows"
   ]
  },
  {
   "cell_type": "code",
   "execution_count": 32,
   "id": "ff0354e6",
   "metadata": {},
   "outputs": [
    {
     "data": {
      "text/plain": [
       "6"
      ]
     },
     "execution_count": 32,
     "metadata": {},
     "output_type": "execute_result"
    }
   ],
   "source": [
    "df_modified.select(\"*\").distinct().count()"
   ]
  },
  {
   "cell_type": "markdown",
   "id": "2b3dec71",
   "metadata": {},
   "source": [
    "### Get random samples"
   ]
  },
  {
   "cell_type": "code",
   "execution_count": 34,
   "id": "df56d842",
   "metadata": {},
   "outputs": [
    {
     "data": {
      "text/plain": [
       "6"
      ]
     },
     "execution_count": 34,
     "metadata": {},
     "output_type": "execute_result"
    }
   ],
   "source": [
    "df.sample(withReplacement=False, fraction=1.0, seed=2).count()"
   ]
  },
  {
   "cell_type": "markdown",
   "id": "17effb2b",
   "metadata": {},
   "source": [
    "### Random split of data frame"
   ]
  },
  {
   "cell_type": "code",
   "execution_count": 39,
   "id": "be91493c",
   "metadata": {},
   "outputs": [],
   "source": [
    "# split the actual data frame to two random splits with 70% and 30% data in them\n",
    "df_split = df.randomSplit([0.7, 0.3], seed=3)"
   ]
  },
  {
   "cell_type": "code",
   "execution_count": 40,
   "id": "7226f25a",
   "metadata": {},
   "outputs": [
    {
     "name": "stdout",
     "output_type": "stream",
     "text": [
      "6\n",
      "4\n",
      "2\n"
     ]
    }
   ],
   "source": [
    "print(df.count())\n",
    "print(df_split[0].count())\n",
    "print(df_split[1].count())"
   ]
  },
  {
   "cell_type": "markdown",
   "id": "1aa3a743",
   "metadata": {},
   "source": [
    "### Concatinating and Appending rows"
   ]
  },
  {
   "cell_type": "code",
   "execution_count": 41,
   "id": "f4867208",
   "metadata": {},
   "outputs": [
    {
     "data": {
      "text/plain": [
       "['FirstName',\n",
       " 'LastName',\n",
       " 'Age',\n",
       " 'Place',\n",
       " 'Salary',\n",
       " 'Department',\n",
       " 'Technologies']"
      ]
     },
     "execution_count": 41,
     "metadata": {},
     "output_type": "execute_result"
    }
   ],
   "source": [
    "df.columns"
   ]
  },
  {
   "cell_type": "code",
   "execution_count": 44,
   "id": "8fe3e5d5",
   "metadata": {},
   "outputs": [],
   "source": [
    "rows = [\n",
    "    Row(\"Deepak\",\"Mantha\",33,\"Kalpakkam\",333333,\"BARC\",[\"C\",\"C++\",\"Python\"]),\n",
    "    Row(\"Nishant\",\"Sharma\",35,\"Shimla\",303333,\"SPS\",[\".Net\",\"Xamarin\",\"ASP.Net\"]),\n",
    "    Row(\"Akhil\",\"Debral\",34,\"Uttarakhand\",313333,\"SPS\",[\".Net\",\"Xamarin\",\"ASP.Net\",\"Kubenetes\",\"Azure\"])\n",
    "]\n",
    "parallizeRows = spark.sparkContext.parallelize(rows)\n",
    "df2 = spark.createDataFrame(rows, schema)"
   ]
  },
  {
   "cell_type": "code",
   "execution_count": 45,
   "id": "28ac3653",
   "metadata": {},
   "outputs": [],
   "source": [
    "df = df.union(df2)"
   ]
  },
  {
   "cell_type": "code",
   "execution_count": 46,
   "id": "255a25c6",
   "metadata": {},
   "outputs": [
    {
     "name": "stdout",
     "output_type": "stream",
     "text": [
      "+---------+---------+---+------------+------+----------+--------------------+\n",
      "|FirstName| LastName|Age|       Place|Salary|Department|        Technologies|\n",
      "+---------+---------+---+------------+------+----------+--------------------+\n",
      "|    Pavan|   Mantha| 36|   Hyderabad|273567|       SPS|[java, spring boo...|\n",
      "|     Arun|  Boppudi| 36|      Guntur|303567|      Aero|[java, spring boo...|\n",
      "|     Ravi|Vadlamani| 26|Visakapatnam|213567|      Aero|[express, data st...|\n",
      "| Mahender|        M| 21|   Hyderabad|153567|      Aero|[java, spring boo...|\n",
      "|    Manoj|    Manoj| 21|      Guntur|183567|      Aero|    [express, react]|\n",
      "|    Manoj|Velecheti| 21|Visakapatnam|223567|      Aero|[java, spring boo...|\n",
      "|   Deepak|   Mantha| 33|   Kalpakkam|333333|      BARC|    [C, C++, Python]|\n",
      "|  Nishant|   Sharma| 35|      Shimla|303333|       SPS|[.Net, Xamarin, A...|\n",
      "|    Akhil|   Debral| 34| Uttarakhand|313333|       SPS|[.Net, Xamarin, A...|\n",
      "+---------+---------+---+------------+------+----------+--------------------+\n",
      "\n"
     ]
    }
   ],
   "source": [
    "df.show()"
   ]
  },
  {
   "cell_type": "code",
   "execution_count": 47,
   "id": "90930cd9",
   "metadata": {},
   "outputs": [
    {
     "name": "stdout",
     "output_type": "stream",
     "text": [
      "+---------+--------+---+-----------+------+----------+--------------------+\n",
      "|FirstName|LastName|Age|      Place|Salary|Department|        Technologies|\n",
      "+---------+--------+---+-----------+------+----------+--------------------+\n",
      "|    Pavan|  Mantha| 36|  Hyderabad|273567|       SPS|[java, spring boo...|\n",
      "|  Nishant|  Sharma| 35|     Shimla|303333|       SPS|[.Net, Xamarin, A...|\n",
      "|    Akhil|  Debral| 34|Uttarakhand|313333|       SPS|[.Net, Xamarin, A...|\n",
      "+---------+--------+---+-----------+------+----------+--------------------+\n",
      "\n"
     ]
    }
   ],
   "source": [
    "df.where(F.col(\"Department\") == \"SPS\").show()"
   ]
  },
  {
   "cell_type": "code",
   "execution_count": 48,
   "id": "e508fe9c",
   "metadata": {},
   "outputs": [
    {
     "name": "stdout",
     "output_type": "stream",
     "text": [
      "+---------+---------+---+------------+------+----------+--------------------+\n",
      "|FirstName| LastName|Age|       Place|Salary|Department|        Technologies|\n",
      "+---------+---------+---+------------+------+----------+--------------------+\n",
      "|     Arun|  Boppudi| 36|      Guntur|303567|      Aero|[java, spring boo...|\n",
      "|     Ravi|Vadlamani| 26|Visakapatnam|213567|      Aero|[express, data st...|\n",
      "| Mahender|        M| 21|   Hyderabad|153567|      Aero|[java, spring boo...|\n",
      "|    Manoj|    Manoj| 21|      Guntur|183567|      Aero|    [express, react]|\n",
      "|    Manoj|Velecheti| 21|Visakapatnam|223567|      Aero|[java, spring boo...|\n",
      "+---------+---------+---+------------+------+----------+--------------------+\n",
      "\n"
     ]
    }
   ],
   "source": [
    "df.where(F.col(\"Department\") == \"Aero\").show()"
   ]
  },
  {
   "cell_type": "code",
   "execution_count": 49,
   "id": "7b88dc3c",
   "metadata": {},
   "outputs": [
    {
     "name": "stdout",
     "output_type": "stream",
     "text": [
      "+---------+---------+--------------------+\n",
      "|FirstName| LastName|        Technologies|\n",
      "+---------+---------+--------------------+\n",
      "|     Arun|  Boppudi|[java, spring boo...|\n",
      "|     Ravi|Vadlamani|[express, data st...|\n",
      "| Mahender|        M|[java, spring boo...|\n",
      "|    Manoj|    Manoj|    [express, react]|\n",
      "|    Manoj|Velecheti|[java, spring boo...|\n",
      "+---------+---------+--------------------+\n",
      "\n"
     ]
    }
   ],
   "source": [
    "df.select(\"FirstName\",\"LastName\",\"Technologies\").where(F.col(\"Department\") == \"Aero\").show()"
   ]
  },
  {
   "cell_type": "markdown",
   "id": "6c9cc9bf",
   "metadata": {},
   "source": [
    "### Sorting"
   ]
  },
  {
   "cell_type": "code",
   "execution_count": 50,
   "id": "7d93449a",
   "metadata": {},
   "outputs": [
    {
     "name": "stdout",
     "output_type": "stream",
     "text": [
      "+---------+---------+---+------------+------+----------+--------------------+\n",
      "|FirstName| LastName|Age|       Place|Salary|Department|        Technologies|\n",
      "+---------+---------+---+------------+------+----------+--------------------+\n",
      "|    Manoj|Velecheti| 21|Visakapatnam|223567|      Aero|[java, spring boo...|\n",
      "| Mahender|        M| 21|   Hyderabad|153567|      Aero|[java, spring boo...|\n",
      "|    Manoj|    Manoj| 21|      Guntur|183567|      Aero|    [express, react]|\n",
      "|     Ravi|Vadlamani| 26|Visakapatnam|213567|      Aero|[express, data st...|\n",
      "|   Deepak|   Mantha| 33|   Kalpakkam|333333|      BARC|    [C, C++, Python]|\n",
      "|    Akhil|   Debral| 34| Uttarakhand|313333|       SPS|[.Net, Xamarin, A...|\n",
      "|  Nishant|   Sharma| 35|      Shimla|303333|       SPS|[.Net, Xamarin, A...|\n",
      "|    Pavan|   Mantha| 36|   Hyderabad|273567|       SPS|[java, spring boo...|\n",
      "|     Arun|  Boppudi| 36|      Guntur|303567|      Aero|[java, spring boo...|\n",
      "+---------+---------+---+------------+------+----------+--------------------+\n",
      "\n"
     ]
    }
   ],
   "source": [
    "df.sort(\"Age\").show()"
   ]
  },
  {
   "cell_type": "code",
   "execution_count": 51,
   "id": "a75c61c8",
   "metadata": {},
   "outputs": [
    {
     "name": "stdout",
     "output_type": "stream",
     "text": [
      "+---------+---------+---+------------+------+----------+--------------------+\n",
      "|FirstName| LastName|Age|       Place|Salary|Department|        Technologies|\n",
      "+---------+---------+---+------------+------+----------+--------------------+\n",
      "|   Deepak|   Mantha| 33|   Kalpakkam|333333|      BARC|    [C, C++, Python]|\n",
      "|    Akhil|   Debral| 34| Uttarakhand|313333|       SPS|[.Net, Xamarin, A...|\n",
      "|     Arun|  Boppudi| 36|      Guntur|303567|      Aero|[java, spring boo...|\n",
      "|  Nishant|   Sharma| 35|      Shimla|303333|       SPS|[.Net, Xamarin, A...|\n",
      "|    Pavan|   Mantha| 36|   Hyderabad|273567|       SPS|[java, spring boo...|\n",
      "|    Manoj|Velecheti| 21|Visakapatnam|223567|      Aero|[java, spring boo...|\n",
      "|     Ravi|Vadlamani| 26|Visakapatnam|213567|      Aero|[express, data st...|\n",
      "|    Manoj|    Manoj| 21|      Guntur|183567|      Aero|    [express, react]|\n",
      "| Mahender|        M| 21|   Hyderabad|153567|      Aero|[java, spring boo...|\n",
      "+---------+---------+---+------------+------+----------+--------------------+\n",
      "\n"
     ]
    }
   ],
   "source": [
    "df.orderBy(F.desc(\"Salary\")).show()"
   ]
  },
  {
   "cell_type": "markdown",
   "id": "ae57264d",
   "metadata": {},
   "source": [
    "### Limit what we extract from data frame"
   ]
  },
  {
   "cell_type": "code",
   "execution_count": 52,
   "id": "7d648e4c",
   "metadata": {},
   "outputs": [
    {
     "name": "stdout",
     "output_type": "stream",
     "text": [
      "+---------+---------+---+------------+------+----------+--------------------+\n",
      "|FirstName| LastName|Age|       Place|Salary|Department|        Technologies|\n",
      "+---------+---------+---+------------+------+----------+--------------------+\n",
      "|    Pavan|   Mantha| 36|   Hyderabad|273567|       SPS|[java, spring boo...|\n",
      "|     Arun|  Boppudi| 36|      Guntur|303567|      Aero|[java, spring boo...|\n",
      "|     Ravi|Vadlamani| 26|Visakapatnam|213567|      Aero|[express, data st...|\n",
      "+---------+---------+---+------------+------+----------+--------------------+\n",
      "\n"
     ]
    }
   ],
   "source": [
    "df.limit(3).show()"
   ]
  },
  {
   "cell_type": "code",
   "execution_count": null,
   "id": "a667f333",
   "metadata": {},
   "outputs": [],
   "source": []
  }
 ],
 "metadata": {
  "kernelspec": {
   "display_name": "Python 3 (ipykernel)",
   "language": "python",
   "name": "python3"
  },
  "language_info": {
   "codemirror_mode": {
    "name": "ipython",
    "version": 3
   },
   "file_extension": ".py",
   "mimetype": "text/x-python",
   "name": "python",
   "nbconvert_exporter": "python",
   "pygments_lexer": "ipython3",
   "version": "3.9.14"
  },
  "vscode": {
   "interpreter": {
    "hash": "b0fa6594d8f4cbf19f97940f81e996739fb7646882a419484c72d19e05852a7e"
   }
  }
 },
 "nbformat": 4,
 "nbformat_minor": 5
}

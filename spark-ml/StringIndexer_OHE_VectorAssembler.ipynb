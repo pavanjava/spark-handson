{
 "cells": [
  {
   "cell_type": "code",
   "execution_count": 22,
   "outputs": [],
   "source": [
    "from pyspark.sql import SparkSession\n",
    "from pyspark.sql.types import *\n",
    "from pyspark.sql.functions import *"
   ],
   "metadata": {
    "collapsed": false
   }
  },
  {
   "cell_type": "code",
   "execution_count": 2,
   "outputs": [
    {
     "name": "stdout",
     "output_type": "stream",
     "text": [
      "23/04/01 06:02:18 WARN Utils: Your hostname, Pavans-MacBook-Pro.local resolves to a loopback address: 127.0.0.1; using 192.168.29.143 instead (on interface en0)\n",
      "23/04/01 06:02:18 WARN Utils: Set SPARK_LOCAL_IP if you need to bind to another address\n"
     ]
    },
    {
     "name": "stderr",
     "output_type": "stream",
     "text": [
      "Setting default log level to \"WARN\".\n",
      "To adjust logging level use sc.setLogLevel(newLevel). For SparkR, use setLogLevel(newLevel).\n"
     ]
    },
    {
     "name": "stdout",
     "output_type": "stream",
     "text": [
      "23/04/01 06:02:18 WARN NativeCodeLoader: Unable to load native-hadoop library for your platform... using builtin-java classes where applicable\n"
     ]
    }
   ],
   "source": [
    "spark = SparkSession.builder.master(\"local[*]\").appName(\"sparkdev-stringindexer-demo\").getOrCreate()"
   ],
   "metadata": {
    "collapsed": false
   }
  },
  {
   "cell_type": "code",
   "execution_count": 10,
   "outputs": [],
   "source": [
    "# define the structure to the data frame\n",
    "schema = StructType([\n",
    "    StructField(name=\"id\", dataType=IntegerType(), nullable=False),\n",
    "    StructField(name=\"Technology\", dataType=StringType(), nullable=False)\n",
    "])\n",
    "\n",
    "df = spark.createDataFrame([(0,\"Java\"),(1,\"NodeJS\"),(2,\"SpringBoot\"),(3,\"Java\"),(4,\"MongoDB\"),(5,\"SpringBoot\")],schema=schema,verifySchema=True)"
   ],
   "metadata": {
    "collapsed": false
   }
  },
  {
   "cell_type": "code",
   "execution_count": 11,
   "outputs": [
    {
     "name": "stdout",
     "output_type": "stream",
     "text": [
      "root\n",
      " |-- id: integer (nullable = false)\n",
      " |-- Technology: string (nullable = false)\n",
      "\n",
      "+---+----------+\n",
      "|id |Technology|\n",
      "+---+----------+\n",
      "|0  |Java      |\n",
      "|1  |NodeJS    |\n",
      "|2  |SpringBoot|\n",
      "|3  |Java      |\n",
      "|4  |MongoDB   |\n",
      "|5  |SpringBoot|\n",
      "+---+----------+\n",
      "\n"
     ]
    }
   ],
   "source": [
    "df.printSchema()\n",
    "df.show(truncate=False)"
   ],
   "metadata": {
    "collapsed": false
   }
  },
  {
   "cell_type": "code",
   "execution_count": 12,
   "outputs": [],
   "source": [
    "from pyspark.ml.feature import StringIndexer"
   ],
   "metadata": {
    "collapsed": false
   }
  },
  {
   "cell_type": "code",
   "execution_count": 15,
   "outputs": [
    {
     "name": "stdout",
     "output_type": "stream",
     "text": [
      "+---+----------+-----------------+\n",
      "| id|Technology|TechnologyIndexed|\n",
      "+---+----------+-----------------+\n",
      "|  0|      Java|              2.0|\n",
      "|  1|    NodeJS|              1.0|\n",
      "|  2|SpringBoot|              3.0|\n",
      "|  3|      Java|              2.0|\n",
      "|  4|   MongoDB|              0.0|\n",
      "|  5|SpringBoot|              3.0|\n",
      "+---+----------+-----------------+\n",
      "\n"
     ]
    }
   ],
   "source": [
    "indexer = StringIndexer(inputCol=\"Technology\", outputCol=\"TechnologyIndexed\", stringOrderType=\"frequencyAsc\")\n",
    "indexed = indexer.fit(df).transform(df)\n",
    "indexed.show()"
   ],
   "metadata": {
    "collapsed": false
   }
  },
  {
   "cell_type": "code",
   "execution_count": 17,
   "outputs": [],
   "source": [
    "from pyspark.ml.feature import OneHotEncoder"
   ],
   "metadata": {
    "collapsed": false
   }
  },
  {
   "cell_type": "code",
   "execution_count": 19,
   "outputs": [
    {
     "name": "stdout",
     "output_type": "stream",
     "text": [
      "+---+----------+-----------------+-------------+\n",
      "|id |Technology|TechnologyIndexed|TechnologyVec|\n",
      "+---+----------+-----------------+-------------+\n",
      "|0  |Java      |2.0              |(4,[2],[1.0])|\n",
      "|1  |NodeJS    |1.0              |(4,[1],[1.0])|\n",
      "|2  |SpringBoot|3.0              |(4,[3],[1.0])|\n",
      "|3  |Java      |2.0              |(4,[2],[1.0])|\n",
      "|4  |MongoDB   |0.0              |(4,[0],[1.0])|\n",
      "|5  |SpringBoot|3.0              |(4,[3],[1.0])|\n",
      "+---+----------+-----------------+-------------+\n",
      "\n"
     ]
    }
   ],
   "source": [
    "encoder = OneHotEncoder(inputCols=[\"TechnologyIndexed\"], outputCols=[\"TechnologyVec\"], dropLast=False)\n",
    "encoded = encoder.fit(indexed).transform(indexed)\n",
    "encoded.show(truncate=False)"
   ],
   "metadata": {
    "collapsed": false
   }
  },
  {
   "cell_type": "code",
   "execution_count": 20,
   "outputs": [
    {
     "name": "stdout",
     "output_type": "stream",
     "text": [
      "+---+----------+-----------------+-------------+\n",
      "|id |Technology|TechnologyIndexed|TechnologyVec|\n",
      "+---+----------+-----------------+-------------+\n",
      "|0  |Java      |2.0              |(3,[2],[1.0])|\n",
      "|1  |NodeJS    |1.0              |(3,[1],[1.0])|\n",
      "|2  |SpringBoot|3.0              |(3,[],[])    |\n",
      "|3  |Java      |2.0              |(3,[2],[1.0])|\n",
      "|4  |MongoDB   |0.0              |(3,[0],[1.0])|\n",
      "|5  |SpringBoot|3.0              |(3,[],[])    |\n",
      "+---+----------+-----------------+-------------+\n",
      "\n"
     ]
    }
   ],
   "source": [
    "encoder1 = OneHotEncoder(inputCols=[\"TechnologyIndexed\"], outputCols=[\"TechnologyVec\"])\n",
    "encoded = encoder1.fit(indexed).transform(indexed)\n",
    "encoded.show(truncate=False)"
   ],
   "metadata": {
    "collapsed": false
   }
  },
  {
   "cell_type": "code",
   "execution_count": 21,
   "outputs": [],
   "source": [
    "from pyspark.ml.linalg import Vector\n",
    "from pyspark.ml.feature import VectorAssembler"
   ],
   "metadata": {
    "collapsed": false
   }
  },
  {
   "cell_type": "code",
   "execution_count": 24,
   "outputs": [
    {
     "name": "stdout",
     "output_type": "stream",
     "text": [
      "+---+-----+-----+-----+\n",
      "| id|feat1|feat2|feat3|\n",
      "+---+-----+-----+-----+\n",
      "|  0|  1.2|  4.3|  5.4|\n",
      "|  1|  2.2|  3.1|  6.5|\n",
      "|  2|  0.9|  2.3|  5.6|\n",
      "|  3|  1.5|  4.1|  7.2|\n",
      "+---+-----+-----+-----+\n",
      "\n",
      "+---+-------------+\n",
      "| id|     features|\n",
      "+---+-------------+\n",
      "|  0|[1.2,4.3,5.4]|\n",
      "|  1|[2.2,3.1,6.5]|\n",
      "|  2|[0.9,2.3,5.6]|\n",
      "|  3|[1.5,4.1,7.2]|\n",
      "+---+-------------+\n",
      "\n"
     ]
    }
   ],
   "source": [
    "# Sample data\n",
    "data = [(0, 1.2, 4.3, 5.4), (1, 2.2, 3.1, 6.5), (2, 0.9, 2.3, 5.6), (3, 1.5, 4.1, 7.2)]\n",
    "\n",
    "# Create a dataframe\n",
    "df = spark.createDataFrame(data, [\"id\", \"feat1\", \"feat2\", \"feat3\"])\n",
    "df.show()\n",
    "# Create a VectorAssembler\n",
    "assembler = VectorAssembler(inputCols=[\"feat1\", \"feat2\", \"feat3\"], outputCol=\"features\")\n",
    "\n",
    "# Transform the data\n",
    "output = assembler.transform(df)\n",
    "\n",
    "# Select the relevant columns and show the output\n",
    "output.select(col(\"id\"), col(\"features\")).show()"
   ],
   "metadata": {
    "collapsed": false
   }
  },
  {
   "cell_type": "code",
   "execution_count": null,
   "outputs": [],
   "source": [],
   "metadata": {
    "collapsed": false
   }
  }
 ],
 "metadata": {
  "kernelspec": {
   "display_name": "Python 3",
   "language": "python",
   "name": "python3"
  },
  "language_info": {
   "codemirror_mode": {
    "name": "ipython",
    "version": 2
   },
   "file_extension": ".py",
   "mimetype": "text/x-python",
   "name": "python",
   "nbconvert_exporter": "python",
   "pygments_lexer": "ipython2",
   "version": "2.7.6"
  }
 },
 "nbformat": 4,
 "nbformat_minor": 0
}

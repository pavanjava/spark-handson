{
 "cells": [
  {
   "cell_type": "code",
   "execution_count": 2,
   "id": "1b9ab5e6",
   "metadata": {},
   "outputs": [],
   "source": [
    "from azure.storage.blob import BlobServiceClient"
   ]
  },
  {
   "cell_type": "markdown",
   "source": [
    "## Storage Account Details"
   ],
   "metadata": {
    "collapsed": false
   }
  },
  {
   "cell_type": "code",
   "execution_count": 3,
   "id": "caf5c06e",
   "metadata": {},
   "outputs": [],
   "source": [
    "ACCOUNT_KEY = \"Ukbgwwg+pzkJgnz15rDQiRfWRUQdbmCz89/eUP/pIDltnbsIz0/hPRMQBQSSew+zON6VQ97ZdHrt+AStxHRYgw==\"\n",
    "STORAGE_ACCT_NAME = \"sparkpocdatastorage\"\n",
    "CONNECTION_STR = \"DefaultEndpointsProtocol=https;AccountName=sparkpocdatastorage;AccountKey=Ukbgwwg+pzkJgnz15rDQiRfWRUQdbmCz89/eUP/pIDltnbsIz0/hPRMQBQSSew+zON6VQ97ZdHrt+AStxHRYgw==;EndpointSuffix=core.windows.net\"\n",
    "CONTAINER_NAME = \"csvdatastore\""
   ]
  },
  {
   "cell_type": "markdown",
   "source": [
    "## Upload to container logic"
   ],
   "metadata": {
    "collapsed": false
   }
  },
  {
   "cell_type": "code",
   "execution_count": 4,
   "id": "20b09343",
   "metadata": {},
   "outputs": [],
   "source": [
    "def upload_file(file_path, file_name):\n",
    "    blob_service_client = BlobServiceClient.from_connection_string(CONNECTION_STR)\n",
    "    blob_client = blob_service_client.get_blob_client(container=CONTAINER_NAME, blob=file_name)\n",
    "    \n",
    "    with open(file_path, \"rb\") as file:\n",
    "        blob_client.upload_blob(file)\n",
    "        \n",
    "    print(f\"File upload complete to container {CONTAINER_NAME}\")\n",
    "        \n",
    "    "
   ]
  },
  {
   "cell_type": "code",
   "execution_count": 6,
   "id": "c2430f1e",
   "metadata": {},
   "outputs": [
    {
     "name": "stdout",
     "output_type": "stream",
     "text": [
      "File upload complete to container csvdatastore\n"
     ]
    }
   ],
   "source": [
    "upload_file(\"/Users/pavanmantha/Pavans/PracticeExamples/DataScience_Practice/spark-handson/spark-sql/csv_input/smoke_detection_iot.csv\", \"smoke_detection_iot.csv\")"
   ]
  },
  {
   "cell_type": "code",
   "execution_count": 5,
   "id": "ad24a538",
   "metadata": {},
   "outputs": [],
   "source": []
  }
 ],
 "metadata": {
  "kernelspec": {
   "display_name": "Python 3.10 (base)",
   "language": "python",
   "name": "base"
  },
  "language_info": {
   "codemirror_mode": {
    "name": "ipython",
    "version": 3
   },
   "file_extension": ".py",
   "mimetype": "text/x-python",
   "name": "python",
   "nbconvert_exporter": "python",
   "pygments_lexer": "ipython3",
   "version": "3.10.9"
  }
 },
 "nbformat": 4,
 "nbformat_minor": 5
}

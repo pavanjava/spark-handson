{
 "cells": [
  {
   "cell_type": "code",
   "execution_count": 1,
   "metadata": {
    "collapsed": true
   },
   "outputs": [],
   "source": [
    "from pyspark.sql import SparkSession\n",
    "from pyspark.sql.types import *\n",
    "from pyspark.sql.functions import *"
   ]
  },
  {
   "cell_type": "code",
   "execution_count": 2,
   "outputs": [
    {
     "name": "stdout",
     "output_type": "stream",
     "text": [
      "23/05/17 16:25:49 WARN Utils: Your hostname, Pavans-MacBook-Pro.local resolves to a loopback address: 127.0.0.1; using 192.168.29.143 instead (on interface en0)\n",
      "23/05/17 16:25:49 WARN Utils: Set SPARK_LOCAL_IP if you need to bind to another address\n"
     ]
    },
    {
     "name": "stderr",
     "output_type": "stream",
     "text": [
      "Setting default log level to \"WARN\".\n",
      "To adjust logging level use sc.setLogLevel(newLevel). For SparkR, use setLogLevel(newLevel).\n"
     ]
    },
    {
     "name": "stdout",
     "output_type": "stream",
     "text": [
      "23/05/17 16:25:50 WARN NativeCodeLoader: Unable to load native-hadoop library for your platform... using builtin-java classes where applicable\n"
     ]
    }
   ],
   "source": [
    "spark = SparkSession.builder.appName(\"sparkdev-streaming-tutorial\").master(\"local[*]\").getOrCreate()"
   ],
   "metadata": {
    "collapsed": false
   }
  },
  {
   "cell_type": "code",
   "execution_count": 3,
   "outputs": [
    {
     "name": "stdout",
     "output_type": "stream",
     "text": [
      "root\n",
      " |-- registration_dttm: string (nullable = true)\n",
      " |-- id: integer (nullable = true)\n",
      " |-- first_name: string (nullable = true)\n",
      " |-- last_name: string (nullable = true)\n",
      " |-- email: string (nullable = true)\n",
      " |-- gender: string (nullable = true)\n",
      " |-- ip_address: string (nullable = true)\n",
      " |-- cc: string (nullable = true)\n",
      " |-- country: string (nullable = true)\n",
      " |-- birthdate: string (nullable = true)\n",
      " |-- salary: double (nullable = true)\n",
      " |-- title: string (nullable = true)\n",
      " |-- comments: string (nullable = true)\n",
      "\n",
      "23/05/17 16:25:55 WARN ResolveWriteToStream: Temporary checkpoint location created which is deleted normally when the query didn't fail: /private/var/folders/1x/36nz44_569501n4xs0px2_8m0000gn/T/temporary-ca3d095d-e5f5-49f0-a17f-501bc4778deb. If it's required to delete it under any circumstances, please set spark.sql.streaming.forceDeleteTempCheckpointLocation to true. Important to know deleting temp checkpoint folder is best effort.\n",
      "23/05/17 16:25:55 WARN ResolveWriteToStream: spark.sql.adaptive.enabled is not supported in streaming DataFrames/Datasets and will be disabled.\n"
     ]
    },
    {
     "name": "stderr",
     "output_type": "stream",
     "text": [
      "                                                                                \r"
     ]
    },
    {
     "name": "stdout",
     "output_type": "stream",
     "text": [
      "-------------------------------------------\n",
      "Batch: 0\n",
      "-------------------------------------------\n",
      "+--------------------+---+----------+----------+--------------------+------+---------------+-------------------+-------+----------+---------+--------------------+--------------------+\n",
      "|   registration_dttm| id|first_name| last_name|               email|gender|     ip_address|                 cc|country| birthdate|   salary|               title|            comments|\n",
      "+--------------------+---+----------+----------+--------------------+------+---------------+-------------------+-------+----------+---------+--------------------+--------------------+\n",
      "|2016-02-03T11:45:54Z| 19|  Clarence|    Lawson|clawsoni@vkontakt...|  Male| 107.175.15.152|   3544052814080964| Russia|      null|177122.99|                null|                null|\n",
      "|2016-02-03T19:41:28Z|119|     Craig|  Sullivan|csullivan3a@colum...|  Male| 249.152.168.88|               null| Russia| 7/14/1985|259437.58|GIS Technical Arc...|                null|\n",
      "|2016-02-03T02:06:06Z|124|      John|Williamson|jwilliamson3f@whi...|  Male|    89.15.102.7|   5100134782679695| Russia| 8/30/1994| 80148.64|    Registered Nurse|                null|\n",
      "|2016-02-03T19:48:49Z|145|    Joshua|     Baker|jbaker40@engadget...|  Male|   153.6.85.124|   3581984230455657| Russia|  6/1/1974| 92535.32|Community Outreac...|                null|\n",
      "|2016-02-03T12:11:22Z|175|    Samuel|   Edwards|sedwards4u@busine...|  Male| 60.248.106.175| 676249211413011686| Russia|10/15/1986| 75886.69|Senior Sales Asso...|<img src=x onerro...|\n",
      "|2016-02-03T20:44:57Z|181|  Jonathan|    Parker|jparker50@slidesh...|  Male| 139.54.219.252|               null| Russia| 3/20/1985|225343.37|Structural Analys...|                null|\n",
      "|2016-02-03T14:35:01Z|190|     Randy|    Bishop|rbishop59@deviant...|  Male| 108.100.129.98|               null| Russia|  5/3/1958| 75942.64|Desktop Support T...|                null|\n",
      "|2016-02-03T16:38:16Z|192|     Kevin|  Mcdonald|kmcdonald5b@fotki...|  Male| 134.115.13.223|      4041595811050| Russia| 3/30/1968| 217105.5|    Dental Hygienist|                null|\n",
      "|2016-02-03T13:39:46Z|210|    Ronald|      Ross|   rross5t@blogs.com|  Male|218.192.146.104|6761029928396322919| Russia|      null|286061.25|                null|                null|\n",
      "|2016-02-03T12:21:02Z|226|     James|    Austin|jaustin69@istockp...|  Male| 228.107.68.143|   4913037818454290| Russia|      null| 25084.49|                null|                null|\n",
      "|2016-02-03T01:41:37Z|267|     Roger| Patterson|rpatterson7e@cbsl...|  Male|   41.79.99.103|  67617015896663970| Russia| 1/17/1985|158186.92| Electrical Engineer|                null|\n",
      "|2016-02-03T02:57:14Z|316|      Gary|    Holmes|gholmes8r@cargoco...|  Male|  230.10.206.31|   3575199572250875| Russia|10/21/1975|247710.03|      Civil Engineer|                null|\n",
      "|2016-02-03T19:00:51Z|389|     Chris|  Campbell|ccampbellas@exami...|  Male| 248.151.93.172|               null| Russia|10/27/1979|200958.14|            VP Sales|                null|\n",
      "|2016-02-03T15:22:15Z|406|   William|   Simmons|wsimmonsb9@prweb.com|  Male| 129.126.240.72|   6304420177511219| Russia|  7/2/1955|197654.56| Executive Secretary|                null|\n",
      "|2016-02-03T03:00:36Z|413|    Dennis|   Wallace|dwallacebg@disqus...|  Male|   186.2.104.72|   5583240182375515| Russia|      null|241268.34|                null|                null|\n",
      "|2016-02-03T03:24:11Z|419|   Michael|    Nelson| mnelsonbm@phpbb.com|  Male|    53.74.53.39|   3535733705862237| Russia|10/28/1998| 15592.05|     General Manager|                  😍|\n",
      "|2016-02-03T10:39:28Z|471|   Phillip|   Ramirez| pramirezd2@digg.com|  Male|  221.183.94.98| 560223107272057073| Russia|12/23/1982| 83147.41|     Media Manager I|                null|\n",
      "|2016-02-03T00:39:29Z|655|    Johnny|      Reed|jreedi6@chicagotr...|  Male|169.161.103.111|   4844445630272291| Russia| 5/23/1979| 68913.72|    Quality Engineer|                null|\n",
      "|2016-02-03T10:22:12Z|675|     Shawn|    Howell|showelliq@mozilla...|  Male|  110.6.225.210|   5602232692669211| Russia|10/24/1960|208052.78|Staff Accountant III|                null|\n",
      "|2016-02-03T07:12:53Z|740|    Victor|  Campbell|vcampbellkj@trell...|  Male| 41.188.101.223|    201922215213440| Russia|  7/8/1975| 56415.51|               Nurse|                null|\n",
      "+--------------------+---+----------+----------+--------------------+------+---------------+-------------------+-------+----------+---------+--------------------+--------------------+\n",
      "only showing top 20 rows\n",
      "\n",
      "-------------------------------------------\n",
      "Batch: 1\n",
      "-------------------------------------------\n",
      "+--------------------+---+----------+----------+--------------------+------+--------------+----------------+-------+----------+---------+--------------------+--------------------+\n",
      "|   registration_dttm| id|first_name| last_name|               email|gender|    ip_address|              cc|country| birthdate|   salary|               title|            comments|\n",
      "+--------------------+---+----------+----------+--------------------+------+--------------+----------------+-------+----------+---------+--------------------+--------------------+\n",
      "|2016-02-03T05:38:05Z| 98|     Harry|   Perkins|hperkins2p@domain...|  Male|235.202.132.85| 374288817366643| Russia|  1/9/1962|167340.53|Physical Therapy ...|                null|\n",
      "|2016-02-03T18:50:10Z|147|      Fred|     Adams|   fadams42@admin.ch|  Male|120.77.177.180|5602256469379415| Russia| 10/7/1961|216082.74|            Operator|                null|\n",
      "|2016-02-03T09:34:51Z|163|      Eric|    Murray|emurray4i@elegant...|  Male| 160.195.27.97|            null| Russia| 11/4/1995|188482.04|Automation Specia...|      (ﾉಥ益ಥ）ﾉ﻿ ┻━┻|\n",
      "|2016-02-03T05:44:53Z|164|      Gary|    Austin|gaustin4j@yahoo.c...|  Male|238.138.58.187|3589154163796400| Russia| 10/1/1987| 50582.64|       VP Accounting|                null|\n",
      "|2016-02-03T12:15:12Z|185|   Brandon|Williamson|bwilliamson54@vim...|  Male|  4.249.36.104|4913822210519505| Russia|      null|277603.75|                null|                null|\n",
      "|2016-02-03T19:49:10Z|191|    Ernest|   Gardner|egardner5a@friend...|  Male| 11.155.199.36|3569255677855048| Russia| 1/20/1973|208275.64|  Help Desk Operator|                null|\n",
      "|2016-02-03T21:51:40Z|238|     Keith|      Cruz|  kcruz6l@spiegel.de|  Male|190.234.198.54|            null| Russia| 5/27/1985|259774.68|Payment Adjustmen...|                null|\n",
      "|2016-02-03T22:42:32Z|243|      Adam|   Watkins|awatkins6q@stanfo...|  Male|209.19.182.232|            null| Russia|      null|232885.77|                null|                null|\n",
      "|2016-02-03T15:06:03Z|272|     Kevin|     Henry|khenry7j@theglobe...|  Male| 50.44.164.246|4844927363759743| Russia| 7/28/1980|244046.35|  Recruiting Manager|ثم نفس سقطت وبالت...|\n",
      "|2016-02-03T01:26:31Z|291|      Fred|    Murphy|fmurphy82@cbsnews...|  Male|166.58.125.248|4405343018037348| Russia|12/28/1960|237997.33|     Data Coordiator|                null|\n",
      "|2016-02-03T18:48:27Z|305|   Douglas|   Elliott|delliott8g@berkel...|  Male|   95.5.41.242|6761113512433696| Russia|  5/4/1957| 140393.6|Information Syste...|                null|\n",
      "|2016-02-03T20:40:20Z|306|   Douglas|    Morris|   dmorris8h@last.fm|  Male|174.157.57.240|            null| Russia| 5/16/1963|133519.55|Help Desk Technician|                null|\n",
      "|2016-02-03T06:59:50Z|308|      null|    Miller|                null|  Male|59.200.111.214|5602217712932343| Russia|  9/2/1972|165502.62|    Junior Executive|                null|\n",
      "|2016-02-03T11:37:05Z|336|     Ralph|  Crawford|    rcrawford9b@g.co|  Male|144.96.115.115|            null| Russia|12/20/1963| 65516.97|Administrative As...|                null|\n",
      "|2016-02-03T23:44:33Z|351|     Keith|      Dean|kdean9q@businessw...|  Male|  147.26.53.21|3536126480926609| Russia|      null|160901.76|                null|                null|\n",
      "|2016-02-03T18:13:55Z|425|     Keith|    Moreno|kmorenobs@moonfru...|  Male|  204.8.10.229|5602235445888988| Russia|  7/9/1963|153405.43|Systems Administr...|                null|\n",
      "|2016-02-03T04:20:18Z|446|   Michael|    Arnold|    marnoldcd@gov.uk|  Male| 90.146.48.230|            null| Russia| 3/24/1987| 75277.86| Associate Professor|                null|\n",
      "|2016-02-03T07:22:13Z|493|    Donald|    Palmer|    dpalmerdo@si.edu|  Male| 145.6.134.203|            null| Russia|      null|204361.32|                null|                null|\n",
      "|2016-02-03T15:24:11Z|540|     Billy|Montgomery|bmontgomeryez@oai...|  Male| 41.180.170.46|            null| Russia| 7/30/1964|165229.37|Human Resources M...|                null|\n",
      "|2016-02-03T13:28:48Z|548|     Bruce|  Stephens|bstephensf7@sound...|  Male|   14.1.91.206|            null| Russia| 5/13/1980| 29294.38|        Accountant I|                null|\n",
      "+--------------------+---+----------+----------+--------------------+------+--------------+----------------+-------+----------+---------+--------------------+--------------------+\n",
      "only showing top 20 rows\n",
      "\n"
     ]
    },
    {
     "name": "stderr",
     "output_type": "stream",
     "text": [
      "ERROR:root:KeyboardInterrupt while sending command.\n",
      "Traceback (most recent call last):\n",
      "  File \"/Users/pavanmantha/miniconda3/lib/python3.10/site-packages/py4j/java_gateway.py\", line 1038, in send_command\n",
      "    response = connection.send_command(command)\n",
      "  File \"/Users/pavanmantha/miniconda3/lib/python3.10/site-packages/py4j/clientserver.py\", line 511, in send_command\n",
      "    answer = smart_decode(self.stream.readline()[:-1])\n",
      "  File \"/Users/pavanmantha/miniconda3/lib/python3.10/socket.py\", line 705, in readinto\n",
      "    return self._sock.recv_into(b)\n",
      "KeyboardInterrupt\n"
     ]
    },
    {
     "ename": "KeyboardInterrupt",
     "evalue": "",
     "output_type": "error",
     "traceback": [
      "\u001B[0;31m---------------------------------------------------------------------------\u001B[0m",
      "\u001B[0;31mKeyboardInterrupt\u001B[0m                         Traceback (most recent call last)",
      "Cell \u001B[0;32mIn[3], line 22\u001B[0m\n\u001B[1;32m     20\u001B[0m \u001B[38;5;66;03m# this will write to console\u001B[39;00m\n\u001B[1;32m     21\u001B[0m stream_df_query \u001B[38;5;241m=\u001B[39m stream_df\u001B[38;5;241m.\u001B[39mwhere(stream_df\u001B[38;5;241m.\u001B[39mgender \u001B[38;5;241m==\u001B[39m \u001B[38;5;124m\"\u001B[39m\u001B[38;5;124mMale\u001B[39m\u001B[38;5;124m\"\u001B[39m)\u001B[38;5;241m.\u001B[39mwhere(stream_df\u001B[38;5;241m.\u001B[39mcountry \u001B[38;5;241m==\u001B[39m \u001B[38;5;124m\"\u001B[39m\u001B[38;5;124mRussia\u001B[39m\u001B[38;5;124m\"\u001B[39m)\u001B[38;5;241m.\u001B[39mwriteStream\u001B[38;5;241m.\u001B[39mformat(\u001B[38;5;124m\"\u001B[39m\u001B[38;5;124mconsole\u001B[39m\u001B[38;5;124m\"\u001B[39m)\u001B[38;5;241m.\u001B[39mstart()\n\u001B[0;32m---> 22\u001B[0m \u001B[43mstream_df_query\u001B[49m\u001B[38;5;241;43m.\u001B[39;49m\u001B[43mawaitTermination\u001B[49m\u001B[43m(\u001B[49m\u001B[43m)\u001B[49m\n",
      "File \u001B[0;32m~/miniconda3/lib/python3.10/site-packages/pyspark/sql/streaming.py:107\u001B[0m, in \u001B[0;36mStreamingQuery.awaitTermination\u001B[0;34m(self, timeout)\u001B[0m\n\u001B[1;32m    105\u001B[0m     \u001B[38;5;28;01mreturn\u001B[39;00m \u001B[38;5;28mself\u001B[39m\u001B[38;5;241m.\u001B[39m_jsq\u001B[38;5;241m.\u001B[39mawaitTermination(\u001B[38;5;28mint\u001B[39m(timeout \u001B[38;5;241m*\u001B[39m \u001B[38;5;241m1000\u001B[39m))\n\u001B[1;32m    106\u001B[0m \u001B[38;5;28;01melse\u001B[39;00m:\n\u001B[0;32m--> 107\u001B[0m     \u001B[38;5;28;01mreturn\u001B[39;00m \u001B[38;5;28;43mself\u001B[39;49m\u001B[38;5;241;43m.\u001B[39;49m\u001B[43m_jsq\u001B[49m\u001B[38;5;241;43m.\u001B[39;49m\u001B[43mawaitTermination\u001B[49m\u001B[43m(\u001B[49m\u001B[43m)\u001B[49m\n",
      "File \u001B[0;32m~/miniconda3/lib/python3.10/site-packages/py4j/java_gateway.py:1320\u001B[0m, in \u001B[0;36mJavaMember.__call__\u001B[0;34m(self, *args)\u001B[0m\n\u001B[1;32m   1313\u001B[0m args_command, temp_args \u001B[38;5;241m=\u001B[39m \u001B[38;5;28mself\u001B[39m\u001B[38;5;241m.\u001B[39m_build_args(\u001B[38;5;241m*\u001B[39margs)\n\u001B[1;32m   1315\u001B[0m command \u001B[38;5;241m=\u001B[39m proto\u001B[38;5;241m.\u001B[39mCALL_COMMAND_NAME \u001B[38;5;241m+\u001B[39m\\\n\u001B[1;32m   1316\u001B[0m     \u001B[38;5;28mself\u001B[39m\u001B[38;5;241m.\u001B[39mcommand_header \u001B[38;5;241m+\u001B[39m\\\n\u001B[1;32m   1317\u001B[0m     args_command \u001B[38;5;241m+\u001B[39m\\\n\u001B[1;32m   1318\u001B[0m     proto\u001B[38;5;241m.\u001B[39mEND_COMMAND_PART\n\u001B[0;32m-> 1320\u001B[0m answer \u001B[38;5;241m=\u001B[39m \u001B[38;5;28;43mself\u001B[39;49m\u001B[38;5;241;43m.\u001B[39;49m\u001B[43mgateway_client\u001B[49m\u001B[38;5;241;43m.\u001B[39;49m\u001B[43msend_command\u001B[49m\u001B[43m(\u001B[49m\u001B[43mcommand\u001B[49m\u001B[43m)\u001B[49m\n\u001B[1;32m   1321\u001B[0m return_value \u001B[38;5;241m=\u001B[39m get_return_value(\n\u001B[1;32m   1322\u001B[0m     answer, \u001B[38;5;28mself\u001B[39m\u001B[38;5;241m.\u001B[39mgateway_client, \u001B[38;5;28mself\u001B[39m\u001B[38;5;241m.\u001B[39mtarget_id, \u001B[38;5;28mself\u001B[39m\u001B[38;5;241m.\u001B[39mname)\n\u001B[1;32m   1324\u001B[0m \u001B[38;5;28;01mfor\u001B[39;00m temp_arg \u001B[38;5;129;01min\u001B[39;00m temp_args:\n",
      "File \u001B[0;32m~/miniconda3/lib/python3.10/site-packages/py4j/java_gateway.py:1038\u001B[0m, in \u001B[0;36mGatewayClient.send_command\u001B[0;34m(self, command, retry, binary)\u001B[0m\n\u001B[1;32m   1036\u001B[0m connection \u001B[38;5;241m=\u001B[39m \u001B[38;5;28mself\u001B[39m\u001B[38;5;241m.\u001B[39m_get_connection()\n\u001B[1;32m   1037\u001B[0m \u001B[38;5;28;01mtry\u001B[39;00m:\n\u001B[0;32m-> 1038\u001B[0m     response \u001B[38;5;241m=\u001B[39m \u001B[43mconnection\u001B[49m\u001B[38;5;241;43m.\u001B[39;49m\u001B[43msend_command\u001B[49m\u001B[43m(\u001B[49m\u001B[43mcommand\u001B[49m\u001B[43m)\u001B[49m\n\u001B[1;32m   1039\u001B[0m     \u001B[38;5;28;01mif\u001B[39;00m binary:\n\u001B[1;32m   1040\u001B[0m         \u001B[38;5;28;01mreturn\u001B[39;00m response, \u001B[38;5;28mself\u001B[39m\u001B[38;5;241m.\u001B[39m_create_connection_guard(connection)\n",
      "File \u001B[0;32m~/miniconda3/lib/python3.10/site-packages/py4j/clientserver.py:511\u001B[0m, in \u001B[0;36mClientServerConnection.send_command\u001B[0;34m(self, command)\u001B[0m\n\u001B[1;32m    509\u001B[0m \u001B[38;5;28;01mtry\u001B[39;00m:\n\u001B[1;32m    510\u001B[0m     \u001B[38;5;28;01mwhile\u001B[39;00m \u001B[38;5;28;01mTrue\u001B[39;00m:\n\u001B[0;32m--> 511\u001B[0m         answer \u001B[38;5;241m=\u001B[39m smart_decode(\u001B[38;5;28;43mself\u001B[39;49m\u001B[38;5;241;43m.\u001B[39;49m\u001B[43mstream\u001B[49m\u001B[38;5;241;43m.\u001B[39;49m\u001B[43mreadline\u001B[49m\u001B[43m(\u001B[49m\u001B[43m)\u001B[49m[:\u001B[38;5;241m-\u001B[39m\u001B[38;5;241m1\u001B[39m])\n\u001B[1;32m    512\u001B[0m         logger\u001B[38;5;241m.\u001B[39mdebug(\u001B[38;5;124m\"\u001B[39m\u001B[38;5;124mAnswer received: \u001B[39m\u001B[38;5;132;01m{0}\u001B[39;00m\u001B[38;5;124m\"\u001B[39m\u001B[38;5;241m.\u001B[39mformat(answer))\n\u001B[1;32m    513\u001B[0m         \u001B[38;5;66;03m# Happens when a the other end is dead. There might be an empty\u001B[39;00m\n\u001B[1;32m    514\u001B[0m         \u001B[38;5;66;03m# answer before the socket raises an error.\u001B[39;00m\n",
      "File \u001B[0;32m~/miniconda3/lib/python3.10/socket.py:705\u001B[0m, in \u001B[0;36mSocketIO.readinto\u001B[0;34m(self, b)\u001B[0m\n\u001B[1;32m    703\u001B[0m \u001B[38;5;28;01mwhile\u001B[39;00m \u001B[38;5;28;01mTrue\u001B[39;00m:\n\u001B[1;32m    704\u001B[0m     \u001B[38;5;28;01mtry\u001B[39;00m:\n\u001B[0;32m--> 705\u001B[0m         \u001B[38;5;28;01mreturn\u001B[39;00m \u001B[38;5;28;43mself\u001B[39;49m\u001B[38;5;241;43m.\u001B[39;49m\u001B[43m_sock\u001B[49m\u001B[38;5;241;43m.\u001B[39;49m\u001B[43mrecv_into\u001B[49m\u001B[43m(\u001B[49m\u001B[43mb\u001B[49m\u001B[43m)\u001B[49m\n\u001B[1;32m    706\u001B[0m     \u001B[38;5;28;01mexcept\u001B[39;00m timeout:\n\u001B[1;32m    707\u001B[0m         \u001B[38;5;28mself\u001B[39m\u001B[38;5;241m.\u001B[39m_timeout_occurred \u001B[38;5;241m=\u001B[39m \u001B[38;5;28;01mTrue\u001B[39;00m\n",
      "\u001B[0;31mKeyboardInterrupt\u001B[0m: "
     ]
    }
   ],
   "source": [
    " # schema definition for the input data\n",
    "input_csv_schema = StructType([\n",
    "    StructField(\"registration_dttm\", StringType(), True),\n",
    "    StructField(\"id\", IntegerType(), True),\n",
    "    StructField(\"first_name\", StringType(), True),\n",
    "    StructField(\"last_name\", StringType(), True),\n",
    "    StructField(\"email\", StringType(), True),\n",
    "    StructField(\"gender\", StringType(), True),\n",
    "    StructField(\"ip_address\", StringType(), True),\n",
    "    StructField(\"cc\", StringType(), True),\n",
    "    StructField(\"country\", StringType(), True),\n",
    "    StructField(\"birthdate\", StringType(), True),\n",
    "    StructField(\"salary\", DoubleType(), True),\n",
    "    StructField(\"title\", StringType(), True),\n",
    "    StructField(\"comments\", StringType(), True)\n",
    "])\n",
    "\n",
    "stream_df = spark.readStream.format(\"csv\").option(\"header\",\"true\").schema(input_csv_schema).load(path=\"input_data/csv\")\n",
    "stream_df.printSchema()\n",
    "# this will write to console\n",
    "stream_df_query = stream_df.where(stream_df.gender == \"Male\").where(stream_df.country == \"Russia\").writeStream.format(\"console\").start()\n",
    "stream_df_query.awaitTermination()\n",
    "# this will write to external file\n",
    "#stream_df_query = stream_df.filter(col(\"gender\") == \"Male\").filter(col(\"country\") == \"Russia\").writeStream.format(\"csv\").option(\"path\", \"filtered_output/\").option(\"header\",\"true\").option(\"checkpointLocation\", \"checkpoint/\").outputMode(\"append\").start()\n",
    "#stream_df_query.awaitTermination()"
   ],
   "metadata": {
    "collapsed": false
   }
  }
 ],
 "metadata": {
  "kernelspec": {
   "display_name": "Python 3",
   "language": "python",
   "name": "python3"
  },
  "language_info": {
   "codemirror_mode": {
    "name": "ipython",
    "version": 2
   },
   "file_extension": ".py",
   "mimetype": "text/x-python",
   "name": "python",
   "nbconvert_exporter": "python",
   "pygments_lexer": "ipython2",
   "version": "2.7.6"
  }
 },
 "nbformat": 4,
 "nbformat_minor": 0
}

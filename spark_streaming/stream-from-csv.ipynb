{
 "cells": [
  {
   "cell_type": "code",
   "execution_count": null,
   "metadata": {
    "collapsed": true
   },
   "outputs": [],
   "source": [
    "from pyspark.sql import SparkSession\n",
    "from pyspark.sql.types import *\n",
    "from pyspark.sql.functions import *"
   ]
  },
  {
   "cell_type": "code",
   "execution_count": null,
   "outputs": [],
   "source": [
    "spark = SparkSession.builder.appName(\"sparkdev-streaming-tutorial\").master(\"local[*]\").getOrCreate()"
   ],
   "metadata": {
    "collapsed": false
   }
  },
  {
   "cell_type": "code",
   "execution_count": null,
   "outputs": [],
   "source": [
    " # schema definition for the input data\n",
    "input_csv_schema = StructType([\n",
    "    StructField(\"registration_dttm\", StringType(), True),\n",
    "    StructField(\"id\", IntegerType(), True),\n",
    "    StructField(\"first_name\", StringType(), True),\n",
    "    StructField(\"last_name\", StringType(), True),\n",
    "    StructField(\"email\", StringType(), True),\n",
    "    StructField(\"gender\", StringType(), True),\n",
    "    StructField(\"ip_address\", StringType(), True),\n",
    "    StructField(\"cc\", StringType(), True),\n",
    "    StructField(\"country\", StringType(), True),\n",
    "    StructField(\"birthdate\", StringType(), True),\n",
    "    StructField(\"salary\", DoubleType(), True),\n",
    "    StructField(\"title\", StringType(), True),\n",
    "    StructField(\"comments\", StringType(), True)\n",
    "])\n",
    "\n",
    "stream_df = spark.readStream.format(\"csv\").option(\"header\",\"true\").schema(input_csv_schema).load(path=\"input_data/csv\")\n",
    "stream_df.printSchema()\n",
    "# this will write to console\n",
    "stream_df_query = stream_df.where(stream_df.gender == \"Male\").where(stream_df.country == \"Russia\").writeStream.format(\"console\").start()\n",
    "stream_df_query.awaitTermination()\n",
    "# this will write to external file\n",
    "#stream_df_query = stream_df.filter(col(\"gender\") == \"Male\").filter(col(\"country\") == \"Russia\").writeStream.format(\"csv\").option(\"path\", \"filtered_output/\").option(\"header\",\"true\").option(\"checkpointLocation\", \"checkpoint/\").outputMode(\"append\").start()\n",
    "#stream_df_query.awaitTermination()"
   ],
   "metadata": {
    "collapsed": false
   }
  }
 ],
 "metadata": {
  "kernelspec": {
   "display_name": "Python 3",
   "language": "python",
   "name": "python3"
  },
  "language_info": {
   "codemirror_mode": {
    "name": "ipython",
    "version": 2
   },
   "file_extension": ".py",
   "mimetype": "text/x-python",
   "name": "python",
   "nbconvert_exporter": "python",
   "pygments_lexer": "ipython2",
   "version": "2.7.6"
  }
 },
 "nbformat": 4,
 "nbformat_minor": 0
}

{
 "cells": [
  {
   "cell_type": "code",
   "execution_count": 5,
   "metadata": {
    "collapsed": true
   },
   "outputs": [],
   "source": [
    "from pyspark.sql import SparkSession\n",
    "from pyspark.sql.types import *\n",
    "from pyspark.sql.functions import *"
   ]
  },
  {
   "cell_type": "code",
   "execution_count": 6,
   "outputs": [],
   "source": [
    "spark = SparkSession.builder.appName(\"sparkdev-stream-json demo\").master(\"local[*]\").getOrCreate()"
   ],
   "metadata": {
    "collapsed": false
   }
  },
  {
   "cell_type": "code",
   "execution_count": 7,
   "outputs": [],
   "source": [
    "input_schema = StructType([\n",
    "    StructField(name=\"registration_dttm\", dataType=StringType(), nullable=True),\n",
    "    StructField(name=\"id\", dataType=IntegerType(), nullable=True),\n",
    "    StructField(name=\"first_name\", dataType=StringType(), nullable=True),\n",
    "    StructField(name=\"last_name\", dataType=StringType(), nullable=True),\n",
    "    StructField(name=\"email\", dataType=StringType(), nullable=True),\n",
    "    StructField(name=\"gender\", dataType=StringType(), nullable=True),\n",
    "    StructField(name=\"ip_address\", dataType=StringType(), nullable=True),\n",
    "    StructField(name=\"cc\", dataType=StringType(), nullable=True),\n",
    "    StructField(name=\"country\", dataType=StringType(), nullable=True),\n",
    "    StructField(name=\"birthdate\", dataType=StringType(), nullable=True),\n",
    "    StructField(name=\"salary\", dataType=DoubleType(), nullable=True),\n",
    "    StructField(name=\"title\", dataType=StringType(), nullable=True),\n",
    "    StructField(name=\"comments\", dataType=StringType(), nullable=True)\n",
    "])"
   ],
   "metadata": {
    "collapsed": false
   }
  },
  {
   "cell_type": "code",
   "execution_count": 8,
   "outputs": [],
   "source": [
    "stream_df = spark.readStream.format(\"json\").schema(input_schema).option(\"path\", \"input_data/json\").load()"
   ],
   "metadata": {
    "collapsed": false
   }
  },
  {
   "cell_type": "code",
   "execution_count": 9,
   "outputs": [],
   "source": [
    "stream_count_df = stream_df.groupBy(col(\"country\")).count().orderBy(\"count\", ascending=False).limit(10)"
   ],
   "metadata": {
    "collapsed": false
   }
  },
  {
   "cell_type": "code",
   "execution_count": 10,
   "outputs": [
    {
     "name": "stdout",
     "output_type": "stream",
     "text": [
      "23/05/17 16:29:02 WARN ResolveWriteToStream: spark.sql.adaptive.enabled is not supported in streaming DataFrames/Datasets and will be disabled.\n"
     ]
    }
   ],
   "source": [
    "write_stream_query = stream_count_df \\\n",
    "    .writeStream \\\n",
    "    .outputMode(\"complete\") \\\n",
    "    .format(\"console\") \\\n",
    "    .option(\"checkpointLocation\", \"streaming-checkpoint-loc-json\") \\\n",
    "    .trigger(processingTime=\"10 second\") \\\n",
    "    .start()"
   ],
   "metadata": {
    "collapsed": false
   }
  },
  {
   "cell_type": "code",
   "execution_count": 11,
   "outputs": [
    {
     "name": "stderr",
     "output_type": "stream",
     "text": [
      "                                                                                \r"
     ]
    },
    {
     "name": "stdout",
     "output_type": "stream",
     "text": [
      "-------------------------------------------\n",
      "Batch: 0\n",
      "-------------------------------------------\n",
      "+-----------+-----+\n",
      "|    country|count|\n",
      "+-----------+-----+\n",
      "|      China|  189|\n",
      "|  Indonesia|   97|\n",
      "|     Russia|   62|\n",
      "|Philippines|   45|\n",
      "|   Portugal|   38|\n",
      "|     Brazil|   38|\n",
      "|     France|   37|\n",
      "|     Poland|   35|\n",
      "|     Sweden|   25|\n",
      "|      Japan|   20|\n",
      "+-----------+-----+\n",
      "\n",
      "23/05/17 16:29:47 WARN ProcessingTimeExecutor: Current batch is falling behind. The trigger interval is 10000 milliseconds, but spent 27419 milliseconds\n"
     ]
    },
    {
     "name": "stderr",
     "output_type": "stream",
     "text": [
      "                                                                                \r"
     ]
    },
    {
     "name": "stdout",
     "output_type": "stream",
     "text": [
      "-------------------------------------------\n",
      "Batch: 1\n",
      "-------------------------------------------\n",
      "+-------------+-----+\n",
      "|      country|count|\n",
      "+-------------+-----+\n",
      "|        China|  362|\n",
      "|    Indonesia|  186|\n",
      "|       Russia|  123|\n",
      "|  Philippines|   91|\n",
      "|     Portugal|   79|\n",
      "|       Poland|   76|\n",
      "|       Brazil|   71|\n",
      "|       France|   70|\n",
      "|       Sweden|   60|\n",
      "|United States|   40|\n",
      "+-------------+-----+\n",
      "\n",
      "23/05/17 16:30:46 WARN ProcessingTimeExecutor: Current batch is falling behind. The trigger interval is 10000 milliseconds, but spent 16223 milliseconds\n"
     ]
    },
    {
     "ename": "KeyboardInterrupt",
     "evalue": "",
     "output_type": "error",
     "traceback": [
      "\u001B[0;31m---------------------------------------------------------------------------\u001B[0m",
      "\u001B[0;31mKeyboardInterrupt\u001B[0m                         Traceback (most recent call last)",
      "File \u001B[0;32m~/miniconda3/lib/python3.10/site-packages/py4j/java_gateway.py:1038\u001B[0m, in \u001B[0;36mGatewayClient.send_command\u001B[0;34m(self, command, retry, binary)\u001B[0m\n\u001B[1;32m   1037\u001B[0m \u001B[38;5;28;01mtry\u001B[39;00m:\n\u001B[0;32m-> 1038\u001B[0m     response \u001B[38;5;241m=\u001B[39m \u001B[43mconnection\u001B[49m\u001B[38;5;241;43m.\u001B[39;49m\u001B[43msend_command\u001B[49m\u001B[43m(\u001B[49m\u001B[43mcommand\u001B[49m\u001B[43m)\u001B[49m\n\u001B[1;32m   1039\u001B[0m     \u001B[38;5;28;01mif\u001B[39;00m binary:\n",
      "File \u001B[0;32m~/miniconda3/lib/python3.10/site-packages/py4j/clientserver.py:511\u001B[0m, in \u001B[0;36mClientServerConnection.send_command\u001B[0;34m(self, command)\u001B[0m\n\u001B[1;32m    510\u001B[0m \u001B[38;5;28;01mwhile\u001B[39;00m \u001B[38;5;28;01mTrue\u001B[39;00m:\n\u001B[0;32m--> 511\u001B[0m     answer \u001B[38;5;241m=\u001B[39m smart_decode(\u001B[38;5;28;43mself\u001B[39;49m\u001B[38;5;241;43m.\u001B[39;49m\u001B[43mstream\u001B[49m\u001B[38;5;241;43m.\u001B[39;49m\u001B[43mreadline\u001B[49m\u001B[43m(\u001B[49m\u001B[43m)\u001B[49m[:\u001B[38;5;241m-\u001B[39m\u001B[38;5;241m1\u001B[39m])\n\u001B[1;32m    512\u001B[0m     logger\u001B[38;5;241m.\u001B[39mdebug(\u001B[38;5;124m\"\u001B[39m\u001B[38;5;124mAnswer received: \u001B[39m\u001B[38;5;132;01m{0}\u001B[39;00m\u001B[38;5;124m\"\u001B[39m\u001B[38;5;241m.\u001B[39mformat(answer))\n",
      "File \u001B[0;32m~/miniconda3/lib/python3.10/socket.py:705\u001B[0m, in \u001B[0;36mSocketIO.readinto\u001B[0;34m(self, b)\u001B[0m\n\u001B[1;32m    704\u001B[0m \u001B[38;5;28;01mtry\u001B[39;00m:\n\u001B[0;32m--> 705\u001B[0m     \u001B[38;5;28;01mreturn\u001B[39;00m \u001B[38;5;28;43mself\u001B[39;49m\u001B[38;5;241;43m.\u001B[39;49m\u001B[43m_sock\u001B[49m\u001B[38;5;241;43m.\u001B[39;49m\u001B[43mrecv_into\u001B[49m\u001B[43m(\u001B[49m\u001B[43mb\u001B[49m\u001B[43m)\u001B[49m\n\u001B[1;32m    706\u001B[0m \u001B[38;5;28;01mexcept\u001B[39;00m timeout:\n",
      "\u001B[0;31mKeyboardInterrupt\u001B[0m: ",
      "\nDuring handling of the above exception, another exception occurred:\n",
      "\u001B[0;31mKeyboardInterrupt\u001B[0m                         Traceback (most recent call last)",
      "Cell \u001B[0;32mIn[11], line 1\u001B[0m\n\u001B[0;32m----> 1\u001B[0m \u001B[43mwrite_stream_query\u001B[49m\u001B[38;5;241;43m.\u001B[39;49m\u001B[43mawaitTermination\u001B[49m\u001B[43m(\u001B[49m\u001B[43m)\u001B[49m\n\u001B[1;32m      3\u001B[0m \u001B[38;5;28mprint\u001B[39m(\u001B[38;5;124m\"\u001B[39m\u001B[38;5;124mStreaming Application Completed.\u001B[39m\u001B[38;5;124m\"\u001B[39m)\n",
      "File \u001B[0;32m~/miniconda3/lib/python3.10/site-packages/pyspark/sql/streaming.py:107\u001B[0m, in \u001B[0;36mStreamingQuery.awaitTermination\u001B[0;34m(self, timeout)\u001B[0m\n\u001B[1;32m    105\u001B[0m     \u001B[38;5;28;01mreturn\u001B[39;00m \u001B[38;5;28mself\u001B[39m\u001B[38;5;241m.\u001B[39m_jsq\u001B[38;5;241m.\u001B[39mawaitTermination(\u001B[38;5;28mint\u001B[39m(timeout \u001B[38;5;241m*\u001B[39m \u001B[38;5;241m1000\u001B[39m))\n\u001B[1;32m    106\u001B[0m \u001B[38;5;28;01melse\u001B[39;00m:\n\u001B[0;32m--> 107\u001B[0m     \u001B[38;5;28;01mreturn\u001B[39;00m \u001B[38;5;28;43mself\u001B[39;49m\u001B[38;5;241;43m.\u001B[39;49m\u001B[43m_jsq\u001B[49m\u001B[38;5;241;43m.\u001B[39;49m\u001B[43mawaitTermination\u001B[49m\u001B[43m(\u001B[49m\u001B[43m)\u001B[49m\n",
      "File \u001B[0;32m~/miniconda3/lib/python3.10/site-packages/py4j/java_gateway.py:1320\u001B[0m, in \u001B[0;36mJavaMember.__call__\u001B[0;34m(self, *args)\u001B[0m\n\u001B[1;32m   1313\u001B[0m args_command, temp_args \u001B[38;5;241m=\u001B[39m \u001B[38;5;28mself\u001B[39m\u001B[38;5;241m.\u001B[39m_build_args(\u001B[38;5;241m*\u001B[39margs)\n\u001B[1;32m   1315\u001B[0m command \u001B[38;5;241m=\u001B[39m proto\u001B[38;5;241m.\u001B[39mCALL_COMMAND_NAME \u001B[38;5;241m+\u001B[39m\\\n\u001B[1;32m   1316\u001B[0m     \u001B[38;5;28mself\u001B[39m\u001B[38;5;241m.\u001B[39mcommand_header \u001B[38;5;241m+\u001B[39m\\\n\u001B[1;32m   1317\u001B[0m     args_command \u001B[38;5;241m+\u001B[39m\\\n\u001B[1;32m   1318\u001B[0m     proto\u001B[38;5;241m.\u001B[39mEND_COMMAND_PART\n\u001B[0;32m-> 1320\u001B[0m answer \u001B[38;5;241m=\u001B[39m \u001B[38;5;28;43mself\u001B[39;49m\u001B[38;5;241;43m.\u001B[39;49m\u001B[43mgateway_client\u001B[49m\u001B[38;5;241;43m.\u001B[39;49m\u001B[43msend_command\u001B[49m\u001B[43m(\u001B[49m\u001B[43mcommand\u001B[49m\u001B[43m)\u001B[49m\n\u001B[1;32m   1321\u001B[0m return_value \u001B[38;5;241m=\u001B[39m get_return_value(\n\u001B[1;32m   1322\u001B[0m     answer, \u001B[38;5;28mself\u001B[39m\u001B[38;5;241m.\u001B[39mgateway_client, \u001B[38;5;28mself\u001B[39m\u001B[38;5;241m.\u001B[39mtarget_id, \u001B[38;5;28mself\u001B[39m\u001B[38;5;241m.\u001B[39mname)\n\u001B[1;32m   1324\u001B[0m \u001B[38;5;28;01mfor\u001B[39;00m temp_arg \u001B[38;5;129;01min\u001B[39;00m temp_args:\n",
      "File \u001B[0;32m~/miniconda3/lib/python3.10/site-packages/py4j/java_gateway.py:1066\u001B[0m, in \u001B[0;36mGatewayClient.send_command\u001B[0;34m(self, command, retry, binary)\u001B[0m\n\u001B[1;32m   1057\u001B[0m         response \u001B[38;5;241m=\u001B[39m proto\u001B[38;5;241m.\u001B[39mERROR\n\u001B[1;32m   1058\u001B[0m \u001B[38;5;28;01mexcept\u001B[39;00m \u001B[38;5;167;01mKeyboardInterrupt\u001B[39;00m:\n\u001B[1;32m   1059\u001B[0m     \u001B[38;5;66;03m# For KeyboardInterrupt triggered from Python shell, it should\u001B[39;00m\n\u001B[1;32m   1060\u001B[0m     \u001B[38;5;66;03m# clean up the connection so the connection is\u001B[39;00m\n\u001B[0;32m   (...)\u001B[0m\n\u001B[1;32m   1064\u001B[0m     \u001B[38;5;66;03m# See also https://github.com/bartdag/py4j/pull/440 for\u001B[39;00m\n\u001B[1;32m   1065\u001B[0m     \u001B[38;5;66;03m# more details.\u001B[39;00m\n\u001B[0;32m-> 1066\u001B[0m     \u001B[43mlogging\u001B[49m\u001B[38;5;241;43m.\u001B[39;49m\u001B[43mexception\u001B[49m\u001B[43m(\u001B[49m\u001B[38;5;124;43m\"\u001B[39;49m\u001B[38;5;124;43mKeyboardInterrupt while sending command.\u001B[39;49m\u001B[38;5;124;43m\"\u001B[39;49m\u001B[43m)\u001B[49m\n\u001B[1;32m   1067\u001B[0m     \u001B[38;5;28;01mif\u001B[39;00m connection:\n\u001B[1;32m   1068\u001B[0m         connection\u001B[38;5;241m.\u001B[39mclose(\u001B[38;5;28;01mFalse\u001B[39;00m)\n",
      "File \u001B[0;32m~/miniconda3/lib/python3.10/logging/__init__.py:2113\u001B[0m, in \u001B[0;36mexception\u001B[0;34m(msg, exc_info, *args, **kwargs)\u001B[0m\n\u001B[1;32m   2107\u001B[0m \u001B[38;5;28;01mdef\u001B[39;00m \u001B[38;5;21mexception\u001B[39m(msg, \u001B[38;5;241m*\u001B[39margs, exc_info\u001B[38;5;241m=\u001B[39m\u001B[38;5;28;01mTrue\u001B[39;00m, \u001B[38;5;241m*\u001B[39m\u001B[38;5;241m*\u001B[39mkwargs):\n\u001B[1;32m   2108\u001B[0m     \u001B[38;5;124;03m\"\"\"\u001B[39;00m\n\u001B[1;32m   2109\u001B[0m \u001B[38;5;124;03m    Log a message with severity 'ERROR' on the root logger, with exception\u001B[39;00m\n\u001B[1;32m   2110\u001B[0m \u001B[38;5;124;03m    information. If the logger has no handlers, basicConfig() is called to add\u001B[39;00m\n\u001B[1;32m   2111\u001B[0m \u001B[38;5;124;03m    a console handler with a pre-defined format.\u001B[39;00m\n\u001B[1;32m   2112\u001B[0m \u001B[38;5;124;03m    \"\"\"\u001B[39;00m\n\u001B[0;32m-> 2113\u001B[0m     \u001B[43merror\u001B[49m\u001B[43m(\u001B[49m\u001B[43mmsg\u001B[49m\u001B[43m,\u001B[49m\u001B[43m \u001B[49m\u001B[38;5;241;43m*\u001B[39;49m\u001B[43margs\u001B[49m\u001B[43m,\u001B[49m\u001B[43m \u001B[49m\u001B[43mexc_info\u001B[49m\u001B[38;5;241;43m=\u001B[39;49m\u001B[43mexc_info\u001B[49m\u001B[43m,\u001B[49m\u001B[43m \u001B[49m\u001B[38;5;241;43m*\u001B[39;49m\u001B[38;5;241;43m*\u001B[39;49m\u001B[43mkwargs\u001B[49m\u001B[43m)\u001B[49m\n",
      "File \u001B[0;32m~/miniconda3/lib/python3.10/logging/__init__.py:2105\u001B[0m, in \u001B[0;36merror\u001B[0;34m(msg, *args, **kwargs)\u001B[0m\n\u001B[1;32m   2103\u001B[0m \u001B[38;5;28;01mif\u001B[39;00m \u001B[38;5;28mlen\u001B[39m(root\u001B[38;5;241m.\u001B[39mhandlers) \u001B[38;5;241m==\u001B[39m \u001B[38;5;241m0\u001B[39m:\n\u001B[1;32m   2104\u001B[0m     basicConfig()\n\u001B[0;32m-> 2105\u001B[0m \u001B[43mroot\u001B[49m\u001B[38;5;241;43m.\u001B[39;49m\u001B[43merror\u001B[49m\u001B[43m(\u001B[49m\u001B[43mmsg\u001B[49m\u001B[43m,\u001B[49m\u001B[43m \u001B[49m\u001B[38;5;241;43m*\u001B[39;49m\u001B[43margs\u001B[49m\u001B[43m,\u001B[49m\u001B[43m \u001B[49m\u001B[38;5;241;43m*\u001B[39;49m\u001B[38;5;241;43m*\u001B[39;49m\u001B[43mkwargs\u001B[49m\u001B[43m)\u001B[49m\n",
      "File \u001B[0;32m~/miniconda3/lib/python3.10/logging/__init__.py:1506\u001B[0m, in \u001B[0;36mLogger.error\u001B[0;34m(self, msg, *args, **kwargs)\u001B[0m\n\u001B[1;32m   1497\u001B[0m \u001B[38;5;124;03m\"\"\"\u001B[39;00m\n\u001B[1;32m   1498\u001B[0m \u001B[38;5;124;03mLog 'msg % args' with severity 'ERROR'.\u001B[39;00m\n\u001B[1;32m   1499\u001B[0m \n\u001B[0;32m   (...)\u001B[0m\n\u001B[1;32m   1503\u001B[0m \u001B[38;5;124;03mlogger.error(\"Houston, we have a %s\", \"major problem\", exc_info=1)\u001B[39;00m\n\u001B[1;32m   1504\u001B[0m \u001B[38;5;124;03m\"\"\"\u001B[39;00m\n\u001B[1;32m   1505\u001B[0m \u001B[38;5;28;01mif\u001B[39;00m \u001B[38;5;28mself\u001B[39m\u001B[38;5;241m.\u001B[39misEnabledFor(ERROR):\n\u001B[0;32m-> 1506\u001B[0m     \u001B[38;5;28;43mself\u001B[39;49m\u001B[38;5;241;43m.\u001B[39;49m\u001B[43m_log\u001B[49m\u001B[43m(\u001B[49m\u001B[43mERROR\u001B[49m\u001B[43m,\u001B[49m\u001B[43m \u001B[49m\u001B[43mmsg\u001B[49m\u001B[43m,\u001B[49m\u001B[43m \u001B[49m\u001B[43margs\u001B[49m\u001B[43m,\u001B[49m\u001B[43m \u001B[49m\u001B[38;5;241;43m*\u001B[39;49m\u001B[38;5;241;43m*\u001B[39;49m\u001B[43mkwargs\u001B[49m\u001B[43m)\u001B[49m\n",
      "File \u001B[0;32m~/miniconda3/lib/python3.10/logging/__init__.py:1624\u001B[0m, in \u001B[0;36mLogger._log\u001B[0;34m(self, level, msg, args, exc_info, extra, stack_info, stacklevel)\u001B[0m\n\u001B[1;32m   1621\u001B[0m         exc_info \u001B[38;5;241m=\u001B[39m sys\u001B[38;5;241m.\u001B[39mexc_info()\n\u001B[1;32m   1622\u001B[0m record \u001B[38;5;241m=\u001B[39m \u001B[38;5;28mself\u001B[39m\u001B[38;5;241m.\u001B[39mmakeRecord(\u001B[38;5;28mself\u001B[39m\u001B[38;5;241m.\u001B[39mname, level, fn, lno, msg, args,\n\u001B[1;32m   1623\u001B[0m                          exc_info, func, extra, sinfo)\n\u001B[0;32m-> 1624\u001B[0m \u001B[38;5;28;43mself\u001B[39;49m\u001B[38;5;241;43m.\u001B[39;49m\u001B[43mhandle\u001B[49m\u001B[43m(\u001B[49m\u001B[43mrecord\u001B[49m\u001B[43m)\u001B[49m\n",
      "File \u001B[0;32m~/miniconda3/lib/python3.10/logging/__init__.py:1634\u001B[0m, in \u001B[0;36mLogger.handle\u001B[0;34m(self, record)\u001B[0m\n\u001B[1;32m   1627\u001B[0m \u001B[38;5;124;03m\"\"\"\u001B[39;00m\n\u001B[1;32m   1628\u001B[0m \u001B[38;5;124;03mCall the handlers for the specified record.\u001B[39;00m\n\u001B[1;32m   1629\u001B[0m \n\u001B[1;32m   1630\u001B[0m \u001B[38;5;124;03mThis method is used for unpickled records received from a socket, as\u001B[39;00m\n\u001B[1;32m   1631\u001B[0m \u001B[38;5;124;03mwell as those created locally. Logger-level filtering is applied.\u001B[39;00m\n\u001B[1;32m   1632\u001B[0m \u001B[38;5;124;03m\"\"\"\u001B[39;00m\n\u001B[1;32m   1633\u001B[0m \u001B[38;5;28;01mif\u001B[39;00m (\u001B[38;5;129;01mnot\u001B[39;00m \u001B[38;5;28mself\u001B[39m\u001B[38;5;241m.\u001B[39mdisabled) \u001B[38;5;129;01mand\u001B[39;00m \u001B[38;5;28mself\u001B[39m\u001B[38;5;241m.\u001B[39mfilter(record):\n\u001B[0;32m-> 1634\u001B[0m     \u001B[38;5;28;43mself\u001B[39;49m\u001B[38;5;241;43m.\u001B[39;49m\u001B[43mcallHandlers\u001B[49m\u001B[43m(\u001B[49m\u001B[43mrecord\u001B[49m\u001B[43m)\u001B[49m\n",
      "File \u001B[0;32m~/miniconda3/lib/python3.10/logging/__init__.py:1696\u001B[0m, in \u001B[0;36mLogger.callHandlers\u001B[0;34m(self, record)\u001B[0m\n\u001B[1;32m   1694\u001B[0m     found \u001B[38;5;241m=\u001B[39m found \u001B[38;5;241m+\u001B[39m \u001B[38;5;241m1\u001B[39m\n\u001B[1;32m   1695\u001B[0m     \u001B[38;5;28;01mif\u001B[39;00m record\u001B[38;5;241m.\u001B[39mlevelno \u001B[38;5;241m>\u001B[39m\u001B[38;5;241m=\u001B[39m hdlr\u001B[38;5;241m.\u001B[39mlevel:\n\u001B[0;32m-> 1696\u001B[0m         \u001B[43mhdlr\u001B[49m\u001B[38;5;241;43m.\u001B[39;49m\u001B[43mhandle\u001B[49m\u001B[43m(\u001B[49m\u001B[43mrecord\u001B[49m\u001B[43m)\u001B[49m\n\u001B[1;32m   1697\u001B[0m \u001B[38;5;28;01mif\u001B[39;00m \u001B[38;5;129;01mnot\u001B[39;00m c\u001B[38;5;241m.\u001B[39mpropagate:\n\u001B[1;32m   1698\u001B[0m     c \u001B[38;5;241m=\u001B[39m \u001B[38;5;28;01mNone\u001B[39;00m    \u001B[38;5;66;03m#break out\u001B[39;00m\n",
      "File \u001B[0;32m~/miniconda3/lib/python3.10/logging/__init__.py:968\u001B[0m, in \u001B[0;36mHandler.handle\u001B[0;34m(self, record)\u001B[0m\n\u001B[1;32m    966\u001B[0m \u001B[38;5;28mself\u001B[39m\u001B[38;5;241m.\u001B[39macquire()\n\u001B[1;32m    967\u001B[0m \u001B[38;5;28;01mtry\u001B[39;00m:\n\u001B[0;32m--> 968\u001B[0m     \u001B[38;5;28;43mself\u001B[39;49m\u001B[38;5;241;43m.\u001B[39;49m\u001B[43memit\u001B[49m\u001B[43m(\u001B[49m\u001B[43mrecord\u001B[49m\u001B[43m)\u001B[49m\n\u001B[1;32m    969\u001B[0m \u001B[38;5;28;01mfinally\u001B[39;00m:\n\u001B[1;32m    970\u001B[0m     \u001B[38;5;28mself\u001B[39m\u001B[38;5;241m.\u001B[39mrelease()\n",
      "File \u001B[0;32m~/miniconda3/lib/python3.10/logging/__init__.py:1100\u001B[0m, in \u001B[0;36mStreamHandler.emit\u001B[0;34m(self, record)\u001B[0m\n\u001B[1;32m   1089\u001B[0m \u001B[38;5;124;03m\"\"\"\u001B[39;00m\n\u001B[1;32m   1090\u001B[0m \u001B[38;5;124;03mEmit a record.\u001B[39;00m\n\u001B[1;32m   1091\u001B[0m \n\u001B[0;32m   (...)\u001B[0m\n\u001B[1;32m   1097\u001B[0m \u001B[38;5;124;03moutput to the stream.\u001B[39;00m\n\u001B[1;32m   1098\u001B[0m \u001B[38;5;124;03m\"\"\"\u001B[39;00m\n\u001B[1;32m   1099\u001B[0m \u001B[38;5;28;01mtry\u001B[39;00m:\n\u001B[0;32m-> 1100\u001B[0m     msg \u001B[38;5;241m=\u001B[39m \u001B[38;5;28;43mself\u001B[39;49m\u001B[38;5;241;43m.\u001B[39;49m\u001B[43mformat\u001B[49m\u001B[43m(\u001B[49m\u001B[43mrecord\u001B[49m\u001B[43m)\u001B[49m\n\u001B[1;32m   1101\u001B[0m     stream \u001B[38;5;241m=\u001B[39m \u001B[38;5;28mself\u001B[39m\u001B[38;5;241m.\u001B[39mstream\n\u001B[1;32m   1102\u001B[0m     \u001B[38;5;66;03m# issue 35046: merged two stream.writes into one.\u001B[39;00m\n",
      "File \u001B[0;32m~/miniconda3/lib/python3.10/logging/__init__.py:943\u001B[0m, in \u001B[0;36mHandler.format\u001B[0;34m(self, record)\u001B[0m\n\u001B[1;32m    941\u001B[0m \u001B[38;5;28;01melse\u001B[39;00m:\n\u001B[1;32m    942\u001B[0m     fmt \u001B[38;5;241m=\u001B[39m _defaultFormatter\n\u001B[0;32m--> 943\u001B[0m \u001B[38;5;28;01mreturn\u001B[39;00m \u001B[43mfmt\u001B[49m\u001B[38;5;241;43m.\u001B[39;49m\u001B[43mformat\u001B[49m\u001B[43m(\u001B[49m\u001B[43mrecord\u001B[49m\u001B[43m)\u001B[49m\n",
      "File \u001B[0;32m~/miniconda3/lib/python3.10/logging/__init__.py:686\u001B[0m, in \u001B[0;36mFormatter.format\u001B[0;34m(self, record)\u001B[0m\n\u001B[1;32m    682\u001B[0m \u001B[38;5;28;01mif\u001B[39;00m record\u001B[38;5;241m.\u001B[39mexc_info:\n\u001B[1;32m    683\u001B[0m     \u001B[38;5;66;03m# Cache the traceback text to avoid converting it multiple times\u001B[39;00m\n\u001B[1;32m    684\u001B[0m     \u001B[38;5;66;03m# (it's constant anyway)\u001B[39;00m\n\u001B[1;32m    685\u001B[0m     \u001B[38;5;28;01mif\u001B[39;00m \u001B[38;5;129;01mnot\u001B[39;00m record\u001B[38;5;241m.\u001B[39mexc_text:\n\u001B[0;32m--> 686\u001B[0m         record\u001B[38;5;241m.\u001B[39mexc_text \u001B[38;5;241m=\u001B[39m \u001B[38;5;28;43mself\u001B[39;49m\u001B[38;5;241;43m.\u001B[39;49m\u001B[43mformatException\u001B[49m\u001B[43m(\u001B[49m\u001B[43mrecord\u001B[49m\u001B[38;5;241;43m.\u001B[39;49m\u001B[43mexc_info\u001B[49m\u001B[43m)\u001B[49m\n\u001B[1;32m    687\u001B[0m \u001B[38;5;28;01mif\u001B[39;00m record\u001B[38;5;241m.\u001B[39mexc_text:\n\u001B[1;32m    688\u001B[0m     \u001B[38;5;28;01mif\u001B[39;00m s[\u001B[38;5;241m-\u001B[39m\u001B[38;5;241m1\u001B[39m:] \u001B[38;5;241m!=\u001B[39m \u001B[38;5;124m\"\u001B[39m\u001B[38;5;130;01m\\n\u001B[39;00m\u001B[38;5;124m\"\u001B[39m:\n",
      "File \u001B[0;32m~/miniconda3/lib/python3.10/logging/__init__.py:636\u001B[0m, in \u001B[0;36mFormatter.formatException\u001B[0;34m(self, ei)\u001B[0m\n\u001B[1;32m    632\u001B[0m tb \u001B[38;5;241m=\u001B[39m ei[\u001B[38;5;241m2\u001B[39m]\n\u001B[1;32m    633\u001B[0m \u001B[38;5;66;03m# See issues #9427, #1553375. Commented out for now.\u001B[39;00m\n\u001B[1;32m    634\u001B[0m \u001B[38;5;66;03m#if getattr(self, 'fullstack', False):\u001B[39;00m\n\u001B[1;32m    635\u001B[0m \u001B[38;5;66;03m#    traceback.print_stack(tb.tb_frame.f_back, file=sio)\u001B[39;00m\n\u001B[0;32m--> 636\u001B[0m \u001B[43mtraceback\u001B[49m\u001B[38;5;241;43m.\u001B[39;49m\u001B[43mprint_exception\u001B[49m\u001B[43m(\u001B[49m\u001B[43mei\u001B[49m\u001B[43m[\u001B[49m\u001B[38;5;241;43m0\u001B[39;49m\u001B[43m]\u001B[49m\u001B[43m,\u001B[49m\u001B[43m \u001B[49m\u001B[43mei\u001B[49m\u001B[43m[\u001B[49m\u001B[38;5;241;43m1\u001B[39;49m\u001B[43m]\u001B[49m\u001B[43m,\u001B[49m\u001B[43m \u001B[49m\u001B[43mtb\u001B[49m\u001B[43m,\u001B[49m\u001B[43m \u001B[49m\u001B[38;5;28;43;01mNone\u001B[39;49;00m\u001B[43m,\u001B[49m\u001B[43m \u001B[49m\u001B[43msio\u001B[49m\u001B[43m)\u001B[49m\n\u001B[1;32m    637\u001B[0m s \u001B[38;5;241m=\u001B[39m sio\u001B[38;5;241m.\u001B[39mgetvalue()\n\u001B[1;32m    638\u001B[0m sio\u001B[38;5;241m.\u001B[39mclose()\n",
      "File \u001B[0;32m~/miniconda3/lib/python3.10/traceback.py:119\u001B[0m, in \u001B[0;36mprint_exception\u001B[0;34m(exc, value, tb, limit, file, chain)\u001B[0m\n\u001B[1;32m    117\u001B[0m \u001B[38;5;28;01mif\u001B[39;00m file \u001B[38;5;129;01mis\u001B[39;00m \u001B[38;5;28;01mNone\u001B[39;00m:\n\u001B[1;32m    118\u001B[0m     file \u001B[38;5;241m=\u001B[39m sys\u001B[38;5;241m.\u001B[39mstderr\n\u001B[0;32m--> 119\u001B[0m te \u001B[38;5;241m=\u001B[39m \u001B[43mTracebackException\u001B[49m\u001B[43m(\u001B[49m\u001B[38;5;28;43mtype\u001B[39;49m\u001B[43m(\u001B[49m\u001B[43mvalue\u001B[49m\u001B[43m)\u001B[49m\u001B[43m,\u001B[49m\u001B[43m \u001B[49m\u001B[43mvalue\u001B[49m\u001B[43m,\u001B[49m\u001B[43m \u001B[49m\u001B[43mtb\u001B[49m\u001B[43m,\u001B[49m\u001B[43m \u001B[49m\u001B[43mlimit\u001B[49m\u001B[38;5;241;43m=\u001B[39;49m\u001B[43mlimit\u001B[49m\u001B[43m,\u001B[49m\u001B[43m \u001B[49m\u001B[43mcompact\u001B[49m\u001B[38;5;241;43m=\u001B[39;49m\u001B[38;5;28;43;01mTrue\u001B[39;49;00m\u001B[43m)\u001B[49m\n\u001B[1;32m    120\u001B[0m \u001B[38;5;28;01mfor\u001B[39;00m line \u001B[38;5;129;01min\u001B[39;00m te\u001B[38;5;241m.\u001B[39mformat(chain\u001B[38;5;241m=\u001B[39mchain):\n\u001B[1;32m    121\u001B[0m     \u001B[38;5;28mprint\u001B[39m(line, file\u001B[38;5;241m=\u001B[39mfile, end\u001B[38;5;241m=\u001B[39m\u001B[38;5;124m\"\u001B[39m\u001B[38;5;124m\"\u001B[39m)\n",
      "File \u001B[0;32m~/miniconda3/lib/python3.10/traceback.py:502\u001B[0m, in \u001B[0;36mTracebackException.__init__\u001B[0;34m(self, exc_type, exc_value, exc_traceback, limit, lookup_lines, capture_locals, compact, _seen)\u001B[0m\n\u001B[1;32m    499\u001B[0m _seen\u001B[38;5;241m.\u001B[39madd(\u001B[38;5;28mid\u001B[39m(exc_value))\n\u001B[1;32m    501\u001B[0m \u001B[38;5;66;03m# TODO: locals.\u001B[39;00m\n\u001B[0;32m--> 502\u001B[0m \u001B[38;5;28mself\u001B[39m\u001B[38;5;241m.\u001B[39mstack \u001B[38;5;241m=\u001B[39m \u001B[43mStackSummary\u001B[49m\u001B[38;5;241;43m.\u001B[39;49m\u001B[43mextract\u001B[49m\u001B[43m(\u001B[49m\n\u001B[1;32m    503\u001B[0m \u001B[43m    \u001B[49m\u001B[43mwalk_tb\u001B[49m\u001B[43m(\u001B[49m\u001B[43mexc_traceback\u001B[49m\u001B[43m)\u001B[49m\u001B[43m,\u001B[49m\u001B[43m \u001B[49m\u001B[43mlimit\u001B[49m\u001B[38;5;241;43m=\u001B[39;49m\u001B[43mlimit\u001B[49m\u001B[43m,\u001B[49m\u001B[43m \u001B[49m\u001B[43mlookup_lines\u001B[49m\u001B[38;5;241;43m=\u001B[39;49m\u001B[43mlookup_lines\u001B[49m\u001B[43m,\u001B[49m\n\u001B[1;32m    504\u001B[0m \u001B[43m    \u001B[49m\u001B[43mcapture_locals\u001B[49m\u001B[38;5;241;43m=\u001B[39;49m\u001B[43mcapture_locals\u001B[49m\u001B[43m)\u001B[49m\n\u001B[1;32m    505\u001B[0m \u001B[38;5;28mself\u001B[39m\u001B[38;5;241m.\u001B[39mexc_type \u001B[38;5;241m=\u001B[39m exc_type\n\u001B[1;32m    506\u001B[0m \u001B[38;5;66;03m# Capture now to permit freeing resources: only complication is in the\u001B[39;00m\n\u001B[1;32m    507\u001B[0m \u001B[38;5;66;03m# unofficial API _format_final_exc_line\u001B[39;00m\n",
      "File \u001B[0;32m~/miniconda3/lib/python3.10/traceback.py:383\u001B[0m, in \u001B[0;36mStackSummary.extract\u001B[0;34m(klass, frame_gen, limit, lookup_lines, capture_locals)\u001B[0m\n\u001B[1;32m    381\u001B[0m \u001B[38;5;28;01mif\u001B[39;00m lookup_lines:\n\u001B[1;32m    382\u001B[0m     \u001B[38;5;28;01mfor\u001B[39;00m f \u001B[38;5;129;01min\u001B[39;00m result:\n\u001B[0;32m--> 383\u001B[0m         \u001B[43mf\u001B[49m\u001B[38;5;241;43m.\u001B[39;49m\u001B[43mline\u001B[49m\n\u001B[1;32m    384\u001B[0m \u001B[38;5;28;01mreturn\u001B[39;00m result\n",
      "File \u001B[0;32m~/miniconda3/lib/python3.10/traceback.py:306\u001B[0m, in \u001B[0;36mFrameSummary.line\u001B[0;34m(self)\u001B[0m\n\u001B[1;32m    304\u001B[0m     \u001B[38;5;28;01mif\u001B[39;00m \u001B[38;5;28mself\u001B[39m\u001B[38;5;241m.\u001B[39mlineno \u001B[38;5;129;01mis\u001B[39;00m \u001B[38;5;28;01mNone\u001B[39;00m:\n\u001B[1;32m    305\u001B[0m         \u001B[38;5;28;01mreturn\u001B[39;00m \u001B[38;5;28;01mNone\u001B[39;00m\n\u001B[0;32m--> 306\u001B[0m     \u001B[38;5;28mself\u001B[39m\u001B[38;5;241m.\u001B[39m_line \u001B[38;5;241m=\u001B[39m \u001B[43mlinecache\u001B[49m\u001B[38;5;241;43m.\u001B[39;49m\u001B[43mgetline\u001B[49m\u001B[43m(\u001B[49m\u001B[38;5;28;43mself\u001B[39;49m\u001B[38;5;241;43m.\u001B[39;49m\u001B[43mfilename\u001B[49m\u001B[43m,\u001B[49m\u001B[43m \u001B[49m\u001B[38;5;28;43mself\u001B[39;49m\u001B[38;5;241;43m.\u001B[39;49m\u001B[43mlineno\u001B[49m\u001B[43m)\u001B[49m\n\u001B[1;32m    307\u001B[0m \u001B[38;5;28;01mreturn\u001B[39;00m \u001B[38;5;28mself\u001B[39m\u001B[38;5;241m.\u001B[39m_line\u001B[38;5;241m.\u001B[39mstrip()\n",
      "File \u001B[0;32m~/miniconda3/lib/python3.10/linecache.py:30\u001B[0m, in \u001B[0;36mgetline\u001B[0;34m(filename, lineno, module_globals)\u001B[0m\n\u001B[1;32m     26\u001B[0m \u001B[38;5;28;01mdef\u001B[39;00m \u001B[38;5;21mgetline\u001B[39m(filename, lineno, module_globals\u001B[38;5;241m=\u001B[39m\u001B[38;5;28;01mNone\u001B[39;00m):\n\u001B[1;32m     27\u001B[0m     \u001B[38;5;124;03m\"\"\"Get a line for a Python source file from the cache.\u001B[39;00m\n\u001B[1;32m     28\u001B[0m \u001B[38;5;124;03m    Update the cache if it doesn't contain an entry for this file already.\"\"\"\u001B[39;00m\n\u001B[0;32m---> 30\u001B[0m     lines \u001B[38;5;241m=\u001B[39m \u001B[43mgetlines\u001B[49m\u001B[43m(\u001B[49m\u001B[43mfilename\u001B[49m\u001B[43m,\u001B[49m\u001B[43m \u001B[49m\u001B[43mmodule_globals\u001B[49m\u001B[43m)\u001B[49m\n\u001B[1;32m     31\u001B[0m     \u001B[38;5;28;01mif\u001B[39;00m \u001B[38;5;241m1\u001B[39m \u001B[38;5;241m<\u001B[39m\u001B[38;5;241m=\u001B[39m lineno \u001B[38;5;241m<\u001B[39m\u001B[38;5;241m=\u001B[39m \u001B[38;5;28mlen\u001B[39m(lines):\n\u001B[1;32m     32\u001B[0m         \u001B[38;5;28;01mreturn\u001B[39;00m lines[lineno \u001B[38;5;241m-\u001B[39m \u001B[38;5;241m1\u001B[39m]\n",
      "File \u001B[0;32m~/miniconda3/lib/python3.10/linecache.py:46\u001B[0m, in \u001B[0;36mgetlines\u001B[0;34m(filename, module_globals)\u001B[0m\n\u001B[1;32m     43\u001B[0m         \u001B[38;5;28;01mreturn\u001B[39;00m cache[filename][\u001B[38;5;241m2\u001B[39m]\n\u001B[1;32m     45\u001B[0m \u001B[38;5;28;01mtry\u001B[39;00m:\n\u001B[0;32m---> 46\u001B[0m     \u001B[38;5;28;01mreturn\u001B[39;00m \u001B[43mupdatecache\u001B[49m\u001B[43m(\u001B[49m\u001B[43mfilename\u001B[49m\u001B[43m,\u001B[49m\u001B[43m \u001B[49m\u001B[43mmodule_globals\u001B[49m\u001B[43m)\u001B[49m\n\u001B[1;32m     47\u001B[0m \u001B[38;5;28;01mexcept\u001B[39;00m \u001B[38;5;167;01mMemoryError\u001B[39;00m:\n\u001B[1;32m     48\u001B[0m     clearcache()\n",
      "File \u001B[0;32m~/miniconda3/lib/python3.10/linecache.py:137\u001B[0m, in \u001B[0;36mupdatecache\u001B[0;34m(filename, module_globals)\u001B[0m\n\u001B[1;32m    135\u001B[0m \u001B[38;5;28;01mtry\u001B[39;00m:\n\u001B[1;32m    136\u001B[0m     \u001B[38;5;28;01mwith\u001B[39;00m tokenize\u001B[38;5;241m.\u001B[39mopen(fullname) \u001B[38;5;28;01mas\u001B[39;00m fp:\n\u001B[0;32m--> 137\u001B[0m         lines \u001B[38;5;241m=\u001B[39m \u001B[43mfp\u001B[49m\u001B[38;5;241;43m.\u001B[39;49m\u001B[43mreadlines\u001B[49m\u001B[43m(\u001B[49m\u001B[43m)\u001B[49m\n\u001B[1;32m    138\u001B[0m \u001B[38;5;28;01mexcept\u001B[39;00m (\u001B[38;5;167;01mOSError\u001B[39;00m, \u001B[38;5;167;01mUnicodeDecodeError\u001B[39;00m, \u001B[38;5;167;01mSyntaxError\u001B[39;00m):\n\u001B[1;32m    139\u001B[0m     \u001B[38;5;28;01mreturn\u001B[39;00m []\n",
      "File \u001B[0;32m~/miniconda3/lib/python3.10/codecs.py:319\u001B[0m, in \u001B[0;36mBufferedIncrementalDecoder.decode\u001B[0;34m(self, input, final)\u001B[0m\n\u001B[1;32m    314\u001B[0m \u001B[38;5;28;01mdef\u001B[39;00m \u001B[38;5;21m_buffer_decode\u001B[39m(\u001B[38;5;28mself\u001B[39m, \u001B[38;5;28minput\u001B[39m, errors, final):\n\u001B[1;32m    315\u001B[0m     \u001B[38;5;66;03m# Overwrite this method in subclasses: It must decode input\u001B[39;00m\n\u001B[1;32m    316\u001B[0m     \u001B[38;5;66;03m# and return an (output, length consumed) tuple\u001B[39;00m\n\u001B[1;32m    317\u001B[0m     \u001B[38;5;28;01mraise\u001B[39;00m \u001B[38;5;167;01mNotImplementedError\u001B[39;00m\n\u001B[0;32m--> 319\u001B[0m \u001B[38;5;28;01mdef\u001B[39;00m \u001B[38;5;21mdecode\u001B[39m(\u001B[38;5;28mself\u001B[39m, \u001B[38;5;28minput\u001B[39m, final\u001B[38;5;241m=\u001B[39m\u001B[38;5;28;01mFalse\u001B[39;00m):\n\u001B[1;32m    320\u001B[0m     \u001B[38;5;66;03m# decode input (taking the buffer into account)\u001B[39;00m\n\u001B[1;32m    321\u001B[0m     data \u001B[38;5;241m=\u001B[39m \u001B[38;5;28mself\u001B[39m\u001B[38;5;241m.\u001B[39mbuffer \u001B[38;5;241m+\u001B[39m \u001B[38;5;28minput\u001B[39m\n\u001B[1;32m    322\u001B[0m     (result, consumed) \u001B[38;5;241m=\u001B[39m \u001B[38;5;28mself\u001B[39m\u001B[38;5;241m.\u001B[39m_buffer_decode(data, \u001B[38;5;28mself\u001B[39m\u001B[38;5;241m.\u001B[39merrors, final)\n",
      "\u001B[0;31mKeyboardInterrupt\u001B[0m: "
     ]
    }
   ],
   "source": [
    "write_stream_query.awaitTermination()\n",
    "\n",
    "print(\"Streaming Application Completed.\")"
   ],
   "metadata": {
    "collapsed": false
   }
  },
  {
   "cell_type": "code",
   "execution_count": null,
   "outputs": [],
   "source": [],
   "metadata": {
    "collapsed": false
   }
  }
 ],
 "metadata": {
  "kernelspec": {
   "display_name": "Python 3",
   "language": "python",
   "name": "python3"
  },
  "language_info": {
   "codemirror_mode": {
    "name": "ipython",
    "version": 2
   },
   "file_extension": ".py",
   "mimetype": "text/x-python",
   "name": "python",
   "nbconvert_exporter": "python",
   "pygments_lexer": "ipython2",
   "version": "2.7.6"
  }
 },
 "nbformat": 4,
 "nbformat_minor": 0
}
